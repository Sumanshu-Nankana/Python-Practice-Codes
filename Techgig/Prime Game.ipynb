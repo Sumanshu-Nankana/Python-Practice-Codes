{
 "cells": [
  {
   "cell_type": "markdown",
   "metadata": {},
   "source": [
    "https://www.techgig.com/codegladiators/question/OGlOMVhEck9lYlFPeS82ZDU0eWdQanpUS0ZMUS9LOUlnd1kwUVlIbG51bkhWSDRsajNYcHdRUzg0L3FoS3RvVg==/1"
   ]
  },
  {
   "cell_type": "markdown",
   "metadata": {},
   "source": [
    "# Prime Game"
   ]
  },
  {
   "cell_type": "raw",
   "metadata": {},
   "source": [
    "Prime Game (100 Marks)\n",
    "Rax, a school student, was bored at home in the pandemic. He wanted to play but there was no one to play with. He was doing some mathematics questions including prime numbers and thought of creating a game using the same. After a few days of work, he was ready with his game. He wants to play the game with you.\n",
    "\n",
    "\n",
    "GAME:\n",
    "\n",
    "Rax will randomly provide you a range [ L , R ] (both inclusive) and you have to tell him the maximum difference between the prime numbers in the given range. There are three answers possible for the given range.\n",
    "\n",
    "There are two distinct prime numbers in the given range so the maximum difference can be found.\n",
    "\n",
    "There is only one distinct prime number in the given range. The maximum difference in this case would be 0.\n",
    "\n",
    "There are no prime numbers in the given range. The output for this case would be -1.\n",
    "\n",
    "\n",
    "To win the game, the participant should answer the prime difference correctly for the given range.\n",
    "\n",
    "\n",
    "Example:\n",
    "\n",
    "Range: [ 1, 10 ]\n",
    "\n",
    "The maximum difference between the prime numbers in the given range is 5.\n",
    "\n",
    "Difference = 7 - 2 = 5\n",
    "\n",
    "\n",
    "Range: [ 5, 5 ]\n",
    "\n",
    "There is only one distinct prime number so the maximum difference would be 0.\n",
    "\n",
    "\n",
    "Range: [ 8 , 10 ]\n",
    "\n",
    "There is no prime number in the given range so the output for the given range would be -1.\n",
    "\n",
    "\n",
    "Can you win the game?\n",
    "\n",
    "\n",
    "\n",
    "Input Format\n",
    "The first line of input consists of the number of test cases, T\n",
    "\n",
    "Next T lines each consists of two space-separated integers, L and R\n",
    "\n",
    "\n",
    "\n",
    "Constraints\n",
    "1<= T <=10\n",
    "\n",
    "2<= L<= R<=10^6\n",
    "\n",
    "\n",
    "\n",
    "Output Format\n",
    "For each test case, print the maximum difference in the given range in a separate line. \n",
    "\n",
    "Sample TestCase 1\n",
    "Input\n",
    "5\n",
    "5 5\n",
    "2 7\n",
    "8 10\n",
    "10 20\n",
    "4 5\n",
    "Output\n",
    "0\n",
    "5\n",
    "-1\n",
    "8\n",
    "0\n",
    "Explanation\n",
    "\n",
    "Test Case 1: [ 5 - 5 ] = 0\n",
    "\n",
    "Test Case 2: [ 7 - 2 ] = 5\n",
    "\n",
    "Test Case 3: No prime number in the given range. Output = -1\n",
    "\n",
    "Test Case 4: [ 19 - 11 ] = 8\n",
    "\n",
    "Test Case 5: The difference would be 0 since there is only one prime number in the given range."
   ]
  },
  {
   "cell_type": "code",
   "execution_count": null,
   "metadata": {},
   "outputs": [],
   "source": [
    "### Submit in PyPy3\n",
    "### In Python3 (1 test case is failing with TLE)"
   ]
  },
  {
   "cell_type": "code",
   "execution_count": 7,
   "metadata": {},
   "outputs": [
    {
     "name": "stdin",
     "output_type": "stream",
     "text": [
      " 1\n",
      " 4 5\n"
     ]
    },
    {
     "name": "stdout",
     "output_type": "stream",
     "text": [
      "0\n"
     ]
    }
   ],
   "source": [
    "''' Read input from STDIN. Print your output to STDOUT '''\n",
    "    #Use input() to read input from STDIN and use print to write your output to STDOUT\n",
    "\n",
    "import __pypy__\n",
    "import math\n",
    "def main():\n",
    "    T = int(input())\n",
    "    for t in range(T):\n",
    "        arr = input().split()\n",
    "        L = int(arr[0])\n",
    "        R = int(arr[1])\n",
    "        lower = 0\n",
    "        higher = 0\n",
    "        for num in range(L, R+1):\n",
    "            temp = int(math.sqrt(num))+1\n",
    "            if num > 1:\n",
    "                for i in range(2, temp):\n",
    "                    if num%i == 0:\n",
    "                        break\n",
    "                else:\n",
    "                    if num > higher:\n",
    "                            higher = num\n",
    "                    if lower == 0:\n",
    "                        lower = num\n",
    "        if lower == 0 and  higher == 0:\n",
    "            print(-1)\n",
    "        elif lower == higher:\n",
    "            print(0)\n",
    "        else:\n",
    "            print(higher - lower)\n",
    "main()"
   ]
  }
 ],
 "metadata": {
  "kernelspec": {
   "display_name": "Python 3",
   "language": "python",
   "name": "python3"
  },
  "language_info": {
   "codemirror_mode": {
    "name": "ipython",
    "version": 3
   },
   "file_extension": ".py",
   "mimetype": "text/x-python",
   "name": "python",
   "nbconvert_exporter": "python",
   "pygments_lexer": "ipython3",
   "version": "3.8.5"
  }
 },
 "nbformat": 4,
 "nbformat_minor": 4
}
