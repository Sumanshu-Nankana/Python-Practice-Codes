{
 "cells": [
  {
   "cell_type": "markdown",
   "metadata": {},
   "source": [
    "https://www.techgig.com/codegladiators/question/cjRQRW83dEdFekhtR2lIV0lRZHpKVm9ZVFZaM0d3dFVmREJVU1FrcnhkMFRObkZMZWNINWtyM01VVDlVSGl3Lw==/1?msg_type=1#"
   ]
  },
  {
   "cell_type": "markdown",
   "metadata": {},
   "source": [
    "# Virus Outbreak"
   ]
  },
  {
   "cell_type": "raw",
   "metadata": {},
   "source": [
    "Virus Outbreak (100 Marks)\n",
    "In the Martian land faraway, a new virus has evolved and is attacking the individuals at a fast pace. The scientists have figured out the virus composition, V. The big task is to identify the people who are infected. The sample of N people is taken to check if they are POSITIVE or NEGATIVE. A report is generated which provides the current blood composition B of the person. \n",
    "\n",
    "\n",
    "POSITIVE or NEGATIVE ?\n",
    "\n",
    "If the blood composition of the person is a subsequence of the virus composition V, then the person is identified as POSITIVE otherwise NEGATIVE.\n",
    "\n",
    "\n",
    "Example:\n",
    "\n",
    "Virus Composition, V = coronavirus\n",
    "\n",
    "Blood Composition of the person , B = ravus\n",
    "\n",
    "\n",
    "The person in question is POSITIVE as B is the subsequence of the V. \n",
    "\n",
    " \n",
    "\n",
    "The scientists are busy with their research for medicine and request you to build a program which can quickly figure out if the person is POSITIVE or NEGATIVE. They will provide you with the virus composition V and all the people’s current blood composition. Can you help them?\n",
    "\n",
    "\n",
    "Note: The virus and blood compositions are lowercase alphabet strings.\n",
    "\n",
    "Input Format\n",
    "The first line of the input consists of the virus composition, V\n",
    "\n",
    "The second line of he input consists of the number of people, N\n",
    "\n",
    "Next N lines each consist of the blood composition of the ith person, Bi\n",
    "\n",
    "\n",
    "\n",
    "\n",
    "Constraints\n",
    "1<= N <=10\n",
    "\n",
    "1<= |B|<= |V|<= 10^5\n",
    "\n",
    "\n",
    "\n",
    "Output Format\n",
    "For each person, print POSITIVE or NEGATIVE in a separate line\n",
    "\n",
    "Sample TestCase 1\n",
    "Input\n",
    "coronavirus\n",
    "3\n",
    "abcde\n",
    "crnas\n",
    "onarous\n",
    "Output\n",
    "NEGATIVE\n",
    "POSITIVE\n",
    "NEGATIVE"
   ]
  },
  {
   "cell_type": "code",
   "execution_count": 34,
   "metadata": {},
   "outputs": [
    {
     "name": "stdin",
     "output_type": "stream",
     "text": [
      " coronavirus\n",
      " 1\n",
      " crnas\n"
     ]
    },
    {
     "name": "stdout",
     "output_type": "stream",
     "text": [
      "Checking c\n",
      "Found c in V at 0\n",
      "Checking r\n",
      "Found r in V at 2\n",
      "Checking n\n",
      "Found n in V at 4\n",
      "Checking a\n",
      "Found a in V at 5\n",
      "Checking s\n",
      "Found s in V at 10\n",
      "POSITIVE\n"
     ]
    }
   ],
   "source": [
    "''' Read input from STDIN. Print your output to STDOUT '''\n",
    "    #Use input() to read input from STDIN and use print to write your output to STDOUT\n",
    "\n",
    "from collections import defaultdict\n",
    "def main():\n",
    "    V = input()\n",
    "    N = int(input())\n",
    "    for i in range(N):\n",
    "        B = input()\n",
    "        dic = defaultdict(list)\n",
    "        for i in range(len(V)):\n",
    "                dic[V[i]].append(i)\n",
    "        prev = -1\n",
    "        for i in range(len(B)):\n",
    "            flag = False\n",
    "            if (B[i] in dic):\n",
    "                for ix in dic[B[i]]:\n",
    "                    if ix > prev:\n",
    "                        flag = True\n",
    "                        prev = ix\n",
    "                        break\n",
    "                if not flag:\n",
    "                    print(\"NEGATIVE\")\n",
    "                    break\n",
    "            else:\n",
    "                flag = False\n",
    "                print(\"NEGATIVE\")\n",
    "                break\n",
    "        if flag:\n",
    "            print(\"POSITIVE\")\n",
    "                    \n",
    "                \n",
    "main()"
   ]
  }
 ],
 "metadata": {
  "kernelspec": {
   "display_name": "Python 3",
   "language": "python",
   "name": "python3"
  },
  "language_info": {
   "codemirror_mode": {
    "name": "ipython",
    "version": 3
   },
   "file_extension": ".py",
   "mimetype": "text/x-python",
   "name": "python",
   "nbconvert_exporter": "python",
   "pygments_lexer": "ipython3",
   "version": "3.8.5"
  }
 },
 "nbformat": 4,
 "nbformat_minor": 4
}
