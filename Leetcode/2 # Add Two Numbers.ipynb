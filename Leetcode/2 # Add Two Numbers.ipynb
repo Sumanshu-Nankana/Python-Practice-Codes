{
 "cells": [
  {
   "cell_type": "markdown",
   "metadata": {},
   "source": [
    "https://leetcode.com/problems/add-two-numbers/"
   ]
  },
  {
   "cell_type": "markdown",
   "metadata": {},
   "source": [
    "# Add Two Numbers"
   ]
  },
  {
   "cell_type": "raw",
   "metadata": {},
   "source": [
    "Approach\n",
    "\n",
    "Traverse both linked list and get both numbers\n",
    "Reverse Both Numbers\n",
    "Add Both numbers\n",
    "Reverse the number\n",
    "Make first digit as Head node\n",
    "Run For loop from 2nd digit and create a Linked List"
   ]
  },
  {
   "cell_type": "code",
   "execution_count": null,
   "metadata": {},
   "outputs": [],
   "source": [
    "# Definition for singly-linked list.\n",
    "# class ListNode:\n",
    "#     def __init__(self, val=0, next=None):\n",
    "#         self.val = val\n",
    "#         self.next = next\n",
    "class Solution:\n",
    "    def addTwoNumbers(self, l1: ListNode, l2: ListNode) -> ListNode:\n",
    "        number1 = \"\"\n",
    "        while l1:\n",
    "            number1 = number1 + str(l1.val)\n",
    "            l1 = l1.next\n",
    "        \n",
    "        number2 = \"\"\n",
    "        while l2:\n",
    "            number2 = number2 + str(l2.val)\n",
    "            l2 = l2.next\n",
    "            \n",
    "        number1 = int(number1[::-1])\n",
    "        number2 = int(number2[::-1])\n",
    "        finalNumber = number1 + number2\n",
    "        finalNumber = str(finalNumber)\n",
    "        finalNumber = finalNumber[::-1]\n",
    "        \n",
    "        head = ListNode(int(finalNumber[0]))\n",
    "        curr = head\n",
    "        for n in finalNumber[1:]:\n",
    "            node = ListNode(int(n))\n",
    "            curr.next = node\n",
    "            curr = curr.next\n",
    "        return head"
   ]
  }
 ],
 "metadata": {
  "kernelspec": {
   "display_name": "Python 3",
   "language": "python",
   "name": "python3"
  },
  "language_info": {
   "codemirror_mode": {
    "name": "ipython",
    "version": 3
   },
   "file_extension": ".py",
   "mimetype": "text/x-python",
   "name": "python",
   "nbconvert_exporter": "python",
   "pygments_lexer": "ipython3",
   "version": "3.8.5"
  }
 },
 "nbformat": 4,
 "nbformat_minor": 4
}
