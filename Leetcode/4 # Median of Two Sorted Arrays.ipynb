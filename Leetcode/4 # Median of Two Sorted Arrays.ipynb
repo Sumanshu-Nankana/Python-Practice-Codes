{
 "cells": [
  {
   "cell_type": "markdown",
   "metadata": {},
   "source": [
    "https://leetcode.com/problems/median-of-two-sorted-arrays/"
   ]
  },
  {
   "cell_type": "markdown",
   "metadata": {},
   "source": [
    "# Median of Two Sorted Arrays"
   ]
  },
  {
   "cell_type": "code",
   "execution_count": null,
   "metadata": {},
   "outputs": [],
   "source": [
    "#### Method-1 (But it tooks (m+n)log(m+n)) - because fof sorting\n",
    "#### But in question, it is asked to do in O(log(m+n))\n",
    "\n",
    "#### Median - is the middle value if length of array is ODD\n",
    "#### Median - is the avergae of middle 2 elements if length of array is EVEN"
   ]
  },
  {
   "cell_type": "code",
   "execution_count": null,
   "metadata": {},
   "outputs": [],
   "source": [
    "class Solution:\n",
    "    def findMedianSortedArrays(self, nums1: List[int], nums2: List[int]) -> float:\n",
    "        nums3 = nums1 + nums2\n",
    "        nums3.sort()\n",
    "        if len(nums3) % 2 == 0:\n",
    "            mid1 = len(nums3)//2 - 1\n",
    "            mid2 = len(nums3)//2\n",
    "            return (nums3[mid1] + nums3[mid2]) / 2\n",
    "        else:\n",
    "            mid = len(nums3)//2\n",
    "            return nums3[mid]"
   ]
  },
  {
   "cell_type": "code",
   "execution_count": null,
   "metadata": {},
   "outputs": [],
   "source": [
    "#### Method-2"
   ]
  },
  {
   "cell_type": "raw",
   "metadata": {},
   "source": [
    "Approach:\n",
    "\n",
    "Example:\n",
    "array1 = [1,3]\n",
    "array2 = [2]\n",
    "\n",
    "When we combined both array [1,2,3]\n",
    "and we always took middle i.e. 2\n",
    "\n",
    "if arrays are\n",
    "array1 = [1,2]\n",
    "array2 = [3,4]\n",
    "then [1,2,3,4]\n",
    "middle are 2,3\n",
    "or if we draw line then it will be in b/w 2 & 3\n",
    "So we can say, \n",
    "max of RHS + min of LHS\n",
    "\n",
    "Something same logic we will apply...(but we will not combine)\n",
    "\n",
    "Example:\n",
    "array1 = [1,2,9,10]\n",
    "array2 = [-1,0,0,2]\n",
    "\n",
    "if we take median of array1 it come b/w 2 & 9  i.e. left array [1,2] & right array [9,10]\n",
    "if we take median of array2 it come b/w 0 & 0  i.e. left array [-1,0] & right array [0,2]\n",
    "\n",
    "So basically we need to take maximum of LEFT ARRAYS and minimum of RIGHT arrays\n",
    "but in above example, it not works\n",
    "So we need to do some modification\n",
    "\n",
    "We will check if max element of left array1 is < Min elemennt of right array2\n",
    "& we will also check if max element of left array2 < min element of right array1\n",
    "NO\n",
    "then, we decrease counter of left array of 1 and increase counter of right array 2\n",
    "i.e.\n",
    "[1] [2,9,10]\n",
    "[-1,0,0] [2]\n",
    "\n",
    "now all condition satisfy\n",
    "Now we can pick number \n",
    "\n",
    "min from left side\n",
    "and max from right side\n",
    "\n",
    "max of [1] & [-1,0,0] ==> 1\n",
    "min of [2,9,10] [2] ==> 2\n",
    "So median is 1+2/2 = 3/2 = 1.5\n",
    "\n",
    "[-1,0,0,1,2,2,9,10]  ==> 1+2/2 ==> 1.5 ==> So same result came\n",
    "But in less time....\n",
    "\n",
    "Explanation: https://www.youtube.com/watch?v=lLFDQCDzfpI"
   ]
  },
  {
   "cell_type": "code",
   "execution_count": 41,
   "metadata": {},
   "outputs": [
    {
     "name": "stdout",
     "output_type": "stream",
     "text": [
      "finding median 4\n",
      "Checkin Index 0, 0\n",
      "Checkin Index 0, 1\n",
      "Checkin Index 0, 2\n",
      "6\n"
     ]
    }
   ],
   "source": [
    "class Solution:\n",
    "    def findMedianSortedArrays(self, nums1, nums2) -> float:\n",
    "        pass\n",
    "    \n",
    "sol = Solution()\n",
    "nums1 = [4,5,6,7]\n",
    "nums2 = [1,2,3]\n",
    "print(sol.findMedianSortedArrays(nums1, nums2))"
   ]
  },
  {
   "cell_type": "code",
   "execution_count": null,
   "metadata": {},
   "outputs": [],
   "source": []
  }
 ],
 "metadata": {
  "kernelspec": {
   "display_name": "Python 3",
   "language": "python",
   "name": "python3"
  },
  "language_info": {
   "codemirror_mode": {
    "name": "ipython",
    "version": 3
   },
   "file_extension": ".py",
   "mimetype": "text/x-python",
   "name": "python",
   "nbconvert_exporter": "python",
   "pygments_lexer": "ipython3",
   "version": "3.8.5"
  }
 },
 "nbformat": 4,
 "nbformat_minor": 4
}
