{
 "cells": [
  {
   "cell_type": "markdown",
   "metadata": {},
   "source": [
    "https://leetcode.com/problems/longest-substring-without-repeating-characters/"
   ]
  },
  {
   "cell_type": "markdown",
   "metadata": {},
   "source": [
    "#  Longest Substring Without Repeating Characters"
   ]
  },
  {
   "cell_type": "raw",
   "metadata": {},
   "source": [
    "Approach-1  (Naive Approach - O(n^2) approach) - it's VERY VERY SLOW\n",
    "\n",
    "Run 2 for loops\n",
    "and when we encounter new element, store in dic\n",
    "if same element encounter again, calculate length till that point\n",
    "and compare with maximum length"
   ]
  },
  {
   "cell_type": "code",
   "execution_count": 30,
   "metadata": {},
   "outputs": [
    {
     "name": "stdout",
     "output_type": "stream",
     "text": [
      "3\n"
     ]
    }
   ],
   "source": [
    "from collections import defaultdict\n",
    "class Solution:\n",
    "    def lengthOfLongestSubstring(self, s: str) -> int:\n",
    "        maxlength = 0\n",
    "        for i in range(len(s)):\n",
    "            dic = defaultdict(int)\n",
    "            for j in range(i, len(s)):\n",
    "                if s[j] in dic:\n",
    "                    break\n",
    "                else:\n",
    "                    dic[s[j]] = 1\n",
    "                l = len(list(dic.keys()))\n",
    "                maxlength = max(l, maxlength)\n",
    "        return maxlength\n",
    "\n",
    "sol = Solution()\n",
    "#s = \"abcabcbb\"\n",
    "#s = \"bbbbb\"\n",
    "#s = \"pwwkew\"\n",
    "#s = \" \"\n",
    "#s = \"\"\n",
    "#s = \"au\"\n",
    "print(sol.lengthOfLongestSubstring(s))"
   ]
  },
  {
   "cell_type": "raw",
   "metadata": {},
   "source": [
    "Approach-2 (Sliding Window Concept)\n",
    "\n",
    "Example:\n",
    "string = \"abcabcbb\"\n",
    "\n",
    "we put left and right pointer at index 0 i.e. at 'a'\n",
    "So we check whether 'a' is in set or dic - No\n",
    "Then add it in set or dic ; and current length is '1' ; set = (a)\n",
    "\n",
    "Then shift right pointer only by 1, now it's on 'b'\n",
    "So we check whether 'b' is in set or dic - No\n",
    "Then add it in set or dic ; and current length is '2' ; set = (a,b)\n",
    "\n",
    "Then shift right pointer only by 1, now it's on 'c'\n",
    "So we check whether 'c' is in set or dic - No\n",
    "Then add it in set or dic ; and current length is '3' ; set = (a,b,c)\n",
    "\n",
    "Then shift right pointer by 1, now it's on 'a'\n",
    "So, we check whether 'a' is in set or dic - Yes\n",
    "Then remove the element from set, which is on left pointer\n",
    "and shift left pointer by 1\n",
    "\n",
    "and again check whether now that element is in set\n",
    "if it's still there, remove element from set , which is on left pointer\n",
    "and shift left pointer by 1\n",
    "\n",
    "and so on...."
   ]
  },
  {
   "cell_type": "code",
   "execution_count": 37,
   "metadata": {},
   "outputs": [],
   "source": [
    "class Solution:\n",
    "    def lengthOfLongestSubstring(self, s: str) -> int:\n",
    "        left, right, maxLength = 0, 0, 0\n",
    "        charSet = set()\n",
    "        while right < len(s):\n",
    "            while (s[right] in charSet):\n",
    "                charSet.remove(s[left])\n",
    "                left+=1\n",
    "            charSet.add(s[right])\n",
    "            length = right - left + 1\n",
    "            maxLength = max(maxLength, length)\n",
    "            right+=1\n",
    "        return maxLength"
   ]
  }
 ],
 "metadata": {
  "kernelspec": {
   "display_name": "Python 3",
   "language": "python",
   "name": "python3"
  },
  "language_info": {
   "codemirror_mode": {
    "name": "ipython",
    "version": 3
   },
   "file_extension": ".py",
   "mimetype": "text/x-python",
   "name": "python",
   "nbconvert_exporter": "python",
   "pygments_lexer": "ipython3",
   "version": "3.8.5"
  }
 },
 "nbformat": 4,
 "nbformat_minor": 4
}
