{
 "cells": [
  {
   "cell_type": "markdown",
   "metadata": {},
   "source": [
    "https://leetcode.com/problems/find-first-and-last-position-of-element-in-sorted-array/"
   ]
  },
  {
   "cell_type": "markdown",
   "metadata": {},
   "source": [
    "# Find First and Last Position of Element in Sorted Array"
   ]
  },
  {
   "cell_type": "raw",
   "metadata": {},
   "source": [
    "Example:\n",
    "Input: nums = [5,7,7,8,8,10], target = 8\n",
    "Output: [3,4]\n",
    "    \n",
    "Input: nums = [5,7,7,8,8,10], target = 6\n",
    "Output: [-1,-1]\n",
    "    \n",
    "Input: nums = [], target = 0\n",
    "Output: [-1,-1]\n",
    "\n",
    "Approach:\n",
    "\n",
    "1) Apply Binary Search\n",
    "2) To find First Position (We will decrement end = end -1 ) ; when element found at mid.\n",
    "3) To find Last Position ( we will increment start = start+1); when element found at mid."
   ]
  },
  {
   "cell_type": "code",
   "execution_count": null,
   "metadata": {},
   "outputs": [],
   "source": [
    "class Solution:\n",
    "    def first(self, arr, x):\n",
    "        low = 0\n",
    "        high = len(arr) - 1\n",
    "        res = -1\n",
    "        while (low <= high):\n",
    "            mid = (low + high) // 2\n",
    "            if arr[mid] > x:\n",
    "                high = mid - 1\n",
    "            elif arr[mid] < x:\n",
    "                low = mid + 1\n",
    "            else:\n",
    "                res = mid\n",
    "                high = mid - 1\n",
    "        return res\n",
    " \n",
    "    def last(self, arr, x):\n",
    "        low = 0\n",
    "        high = len(arr) - 1\n",
    "        res = -1\n",
    "        while(low <= high):\n",
    "            mid = (low + high) // 2\n",
    "            if arr[mid] > x:\n",
    "                high = mid - 1\n",
    "            elif arr[mid] < x:\n",
    "                low = mid + 1\n",
    "            else:\n",
    "                res = mid\n",
    "                low = mid + 1\n",
    "        return res\n",
    "    \n",
    "    def searchRange(self, nums: List[int], target: int) -> List[int]:\n",
    "        idx1 = self.first(nums, target)\n",
    "        idx2 = self.last(nums, target)\n",
    "        return [idx1, idx2]"
   ]
  }
 ],
 "metadata": {
  "kernelspec": {
   "display_name": "Python 3",
   "language": "python",
   "name": "python3"
  },
  "language_info": {
   "codemirror_mode": {
    "name": "ipython",
    "version": 3
   },
   "file_extension": ".py",
   "mimetype": "text/x-python",
   "name": "python",
   "nbconvert_exporter": "python",
   "pygments_lexer": "ipython3",
   "version": "3.8.5"
  }
 },
 "nbformat": 4,
 "nbformat_minor": 4
}
