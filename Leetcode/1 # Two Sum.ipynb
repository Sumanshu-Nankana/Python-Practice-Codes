{
 "cells": [
  {
   "cell_type": "markdown",
   "metadata": {},
   "source": [
    "https://leetcode.com/problems/two-sum/"
   ]
  },
  {
   "cell_type": "markdown",
   "metadata": {},
   "source": [
    "# Two Sum"
   ]
  },
  {
   "cell_type": "raw",
   "metadata": {},
   "source": [
    "Approach:\n",
    "    \n",
    "Create a dictionary, with Key as element and Value as Index (0-based Index)\n",
    "Then run for loop on array, pick first element and check whether - (Sum - Ele) exists in dic\n",
    "if exits return index (of currennt ele and from dic)\n",
    "if not exists - do the entry in dictionary"
   ]
  },
  {
   "cell_type": "code",
   "execution_count": 7,
   "metadata": {},
   "outputs": [
    {
     "name": "stdout",
     "output_type": "stream",
     "text": [
      "[0, 1]\n"
     ]
    }
   ],
   "source": [
    "from collections import defaultdict\n",
    "class Solution:\n",
    "    def twoSum(self, nums, target):\n",
    "        dic = defaultdict(int)\n",
    "        for i in range(len(nums)):\n",
    "            diff = target - nums[i]\n",
    "            if diff in dic:\n",
    "                return ([dic[diff],i])\n",
    "            else:\n",
    "                dic[nums[i]] = i\n",
    "\n",
    "sol = Solution()\n",
    "# nums = [2,7,11,15]\n",
    "# target = 9\n",
    "\n",
    "# nums = [3,2,4]\n",
    "# target = 6\n",
    "\n",
    "nums = [3,3]\n",
    "target = 6\n",
    "print(sol.twoSum(nums, target))"
   ]
  }
 ],
 "metadata": {
  "kernelspec": {
   "display_name": "Python 3",
   "language": "python",
   "name": "python3"
  },
  "language_info": {
   "codemirror_mode": {
    "name": "ipython",
    "version": 3
   },
   "file_extension": ".py",
   "mimetype": "text/x-python",
   "name": "python",
   "nbconvert_exporter": "python",
   "pygments_lexer": "ipython3",
   "version": "3.8.5"
  }
 },
 "nbformat": 4,
 "nbformat_minor": 4
}
