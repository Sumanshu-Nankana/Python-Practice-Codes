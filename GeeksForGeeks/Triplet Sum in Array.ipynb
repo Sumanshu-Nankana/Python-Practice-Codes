{
 "cells": [
  {
   "cell_type": "markdown",
   "metadata": {},
   "source": [
    "https://practice.geeksforgeeks.org/problems/triplet-sum-in-array-1587115621/1"
   ]
  },
  {
   "cell_type": "code",
   "execution_count": 5,
   "metadata": {},
   "outputs": [
    {
     "data": {
      "text/plain": [
       "False"
      ]
     },
     "execution_count": 5,
     "metadata": {},
     "output_type": "execute_result"
    }
   ],
   "source": [
    "class Solution:\n",
    "     \n",
    "    #Function to find if there exists a triplet in the \n",
    "    #array A[] which sums up to X.\n",
    "    def find3Numbers(self,A, n, X):\n",
    "        # Your Code Here\n",
    "        A.sort()\n",
    "        if n < 3: return False\n",
    "        for i in range(n-3):\n",
    "            left_number = X - A[i]\n",
    "            if left_number <= 0: return False\n",
    "            start = i+1\n",
    "            end = n-1\n",
    "            while start < end:\n",
    "                temp = A[start] + A [end]\n",
    "                if temp > left_number:\n",
    "                    end = end - 1\n",
    "                elif temp < left_number:\n",
    "                    start = start + 1\n",
    "                else:\n",
    "                    return True\n",
    "        return False\n",
    "    \n",
    "obj = Solution()\n",
    "n = 5\n",
    "X = 10\n",
    "A = [1, 2, 4, 3, 8]\n",
    "obj.find3Numbers(A, n, X)"
   ]
  }
 ],
 "metadata": {
  "kernelspec": {
   "display_name": "Python 3",
   "language": "python",
   "name": "python3"
  },
  "language_info": {
   "codemirror_mode": {
    "name": "ipython",
    "version": 3
   },
   "file_extension": ".py",
   "mimetype": "text/x-python",
   "name": "python",
   "nbconvert_exporter": "python",
   "pygments_lexer": "ipython3",
   "version": "3.8.5"
  }
 },
 "nbformat": 4,
 "nbformat_minor": 4
}
