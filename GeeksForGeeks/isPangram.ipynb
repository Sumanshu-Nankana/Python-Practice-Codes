{
 "cells": [
  {
   "cell_type": "markdown",
   "metadata": {},
   "source": [
    "https://www.geeksforgeeks.org/python-program-to-check-if-given-string-is-pangram/"
   ]
  },
  {
   "cell_type": "markdown",
   "metadata": {},
   "source": [
    "# Check if a given string is Pangram"
   ]
  },
  {
   "cell_type": "raw",
   "metadata": {},
   "source": [
    "Pangram: a sentence containing every letter of the alphabet.\n",
    "\n",
    "Input : The quick brown fox jumps over the lazy dog\n",
    "Output : Yes\n",
    "\n",
    "Input : abcdefgxyz\n",
    "Output : No"
   ]
  },
  {
   "cell_type": "markdown",
   "metadata": {},
   "source": [
    "#### Method-1"
   ]
  },
  {
   "cell_type": "code",
   "execution_count": 3,
   "metadata": {},
   "outputs": [
    {
     "data": {
      "text/plain": [
       "True"
      ]
     },
     "execution_count": 3,
     "metadata": {},
     "output_type": "execute_result"
    }
   ],
   "source": [
    "def ispangram(string):\n",
    "    alphabets = 'abcdefghijklmnopqrstuvwxyz'\n",
    "    for ch in alphabets:\n",
    "        if ch not in string.lower():\n",
    "            return False\n",
    "    return True\n",
    "\n",
    "string = \"The quick brown fox jumps over the lazy dog\"\n",
    "ispangram(string)"
   ]
  },
  {
   "cell_type": "markdown",
   "metadata": {},
   "source": [
    "#### Method-2"
   ]
  },
  {
   "cell_type": "code",
   "execution_count": 13,
   "metadata": {},
   "outputs": [
    {
     "data": {
      "text/plain": [
       "True"
      ]
     },
     "execution_count": 13,
     "metadata": {},
     "output_type": "execute_result"
    }
   ],
   "source": [
    "def ispangram(string):\n",
    "    alphabets = 'abcdefghijklmnopqrstuvwxyz'\n",
    "    return (set(string.lower())) >= set(alphabets)\n",
    "        \n",
    "string = \"The quick brown fox jumps over the lazy dog\"\n",
    "ispangram(string)"
   ]
  }
 ],
 "metadata": {
  "kernelspec": {
   "display_name": "Python 3",
   "language": "python",
   "name": "python3"
  },
  "language_info": {
   "codemirror_mode": {
    "name": "ipython",
    "version": 3
   },
   "file_extension": ".py",
   "mimetype": "text/x-python",
   "name": "python",
   "nbconvert_exporter": "python",
   "pygments_lexer": "ipython3",
   "version": "3.8.5"
  }
 },
 "nbformat": 4,
 "nbformat_minor": 4
}
