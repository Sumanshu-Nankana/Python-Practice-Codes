{
 "cells": [
  {
   "cell_type": "markdown",
   "metadata": {},
   "source": [
    "https://www.geeksforgeeks.org/count-pairs-with-given-sum/"
   ]
  },
  {
   "cell_type": "markdown",
   "metadata": {},
   "source": [
    "# Count Pairs with Given Sum"
   ]
  },
  {
   "cell_type": "raw",
   "metadata": {},
   "source": [
    "Input  :  arr[] = {1, 5, 7, -1}, \n",
    "          sum = 6\n",
    "Output :  2\n",
    "Pairs with sum 6 are (1, 5) and (7, -1)\n",
    "\n",
    "Input  :  arr[] = {1, 5, 7, -1, 5}, \n",
    "          sum = 6\n",
    "Output :  3\n",
    "Pairs with sum 6 are (1, 5), (7, -1) &\n",
    "                     (1, 5) "
   ]
  },
  {
   "cell_type": "raw",
   "metadata": {},
   "source": [
    "Approach:\n",
    "    \n",
    "Create a hash-map for all elements\n",
    "Then scan all elements in array and check if difference exists in element and decrease the value in map"
   ]
  },
  {
   "cell_type": "code",
   "execution_count": 4,
   "metadata": {},
   "outputs": [
    {
     "data": {
      "text/plain": [
       "3"
      ]
     },
     "execution_count": 4,
     "metadata": {},
     "output_type": "execute_result"
    }
   ],
   "source": [
    "from collections import defaultdict\n",
    "def getPairsCount(arr, sum):\n",
    "    dic = defaultdict(int)\n",
    "    for ele in arr:\n",
    "        dic[ele] = dic.get(ele, 0) + 1\n",
    "    \n",
    "    count = 0\n",
    "    for ele in arr:\n",
    "        diff = ele - sum\n",
    "        if diff in dic:\n",
    "            dic[ele]-=1\n",
    "            count+=1\n",
    "    return count\n",
    "    \n",
    "arr = [1, 5, 7, -1, 5]\n",
    "sum = 6\n",
    "getPairsCount(arr, sum)"
   ]
  }
 ],
 "metadata": {
  "kernelspec": {
   "display_name": "Python 3",
   "language": "python",
   "name": "python3"
  },
  "language_info": {
   "codemirror_mode": {
    "name": "ipython",
    "version": 3
   },
   "file_extension": ".py",
   "mimetype": "text/x-python",
   "name": "python",
   "nbconvert_exporter": "python",
   "pygments_lexer": "ipython3",
   "version": "3.8.5"
  }
 },
 "nbformat": 4,
 "nbformat_minor": 4
}
