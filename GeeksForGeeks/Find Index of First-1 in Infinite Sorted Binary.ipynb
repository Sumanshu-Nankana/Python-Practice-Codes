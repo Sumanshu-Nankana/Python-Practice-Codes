{
 "cells": [
  {
   "cell_type": "markdown",
   "metadata": {},
   "source": [
    "https://www.geeksforgeeks.org/find-index-first-1-infinite-sorted-array-0s-1s/"
   ]
  },
  {
   "cell_type": "markdown",
   "metadata": {},
   "source": [
    "# Find Index of First-1 in Infinite Sorted Binary (0s and 1s)"
   ]
  },
  {
   "cell_type": "raw",
   "metadata": {},
   "source": [
    "Approach:\n",
    "As the array is infinite, we don't know the upper bound (end index)\n",
    "and we don't want to traverse whole array (i.e. wastage of time in Infinite array)\n",
    "\n",
    "So, for infinite array, we will take start index = 0 and end index = 1\n",
    "and then apply binary search\n",
    "if we not found the element, we will increment end-index by twice\n",
    "and start end become end index\n",
    "\n",
    "index: 0 1 2 3 4 5 6 7 8 9 10 11 12 13 14 15 16 17 18 19 20 21 22 23\n",
    "array: 0 0 0 0 0 0 0 0 0 0 0  0  0  0   1  1 1  1  1  1  1  1  1  1 \n",
    "\n",
    "Start = 0\n",
    "end = 1\n",
    "if arr[end] == 0 ; Increase end by twice\n",
    "\n",
    "So\n",
    "Start = 1\n",
    "End = 1*2 = 2\n",
    "if arr[end] == 0 ; Increase end by twice\n",
    "\n",
    "Start = 2\n",
    "End = 4\n",
    "if arr[end] == 0 ; Increase end by twice\n",
    "\n",
    "Start = 4\n",
    "End = 8\n",
    "if arr[end] == 0 ; Increase end by twice\n",
    "\n",
    "Start = 8\n",
    "End = 16\n",
    "arr[end]!=0 thus;\n",
    "Apply binary search, did we find 1 - Yes\n",
    "and decrement end by 1; and then apply Binary Search;\n",
    "if we find 1 at mid, and array[mid-1]==0 then that is the first 1st index."
   ]
  },
  {
   "cell_type": "code",
   "execution_count": 4,
   "metadata": {},
   "outputs": [
    {
     "name": "stdout",
     "output_type": "stream",
     "text": [
      "1\n"
     ]
    }
   ],
   "source": [
    "def indexOfFirstOne(array):\n",
    "    start = 0\n",
    "    end = 1\n",
    "    \n",
    "    # Skip zeros\n",
    "    while (array[end]==0):\n",
    "        start = end\n",
    "        end = end * 2\n",
    "        \n",
    "    # Binary search in range when we find array[end] has 1\n",
    "    while start <= end:\n",
    "        mid = (start+end)//2\n",
    "        if array[mid]==1 and (mid==0 or array[mid-1]==0):\n",
    "            break\n",
    "        elif array[mid] == 1:\n",
    "            end = mid - 1\n",
    "        else:\n",
    "            start = mid+1\n",
    "    return mid\n",
    "\n",
    "arr = [ 0,1,1,1,1,1,1, 1, 1, 1, 1, 1 ]\n",
    "print(indexOfFirstOne(arr))"
   ]
  }
 ],
 "metadata": {
  "kernelspec": {
   "display_name": "Python 3",
   "language": "python",
   "name": "python3"
  },
  "language_info": {
   "codemirror_mode": {
    "name": "ipython",
    "version": 3
   },
   "file_extension": ".py",
   "mimetype": "text/x-python",
   "name": "python",
   "nbconvert_exporter": "python",
   "pygments_lexer": "ipython3",
   "version": "3.8.5"
  }
 },
 "nbformat": 4,
 "nbformat_minor": 4
}
