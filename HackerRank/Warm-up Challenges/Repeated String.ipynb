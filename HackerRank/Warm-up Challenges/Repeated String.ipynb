{
 "cells": [
  {
   "cell_type": "markdown",
   "metadata": {},
   "source": [
    "# Repeated String"
   ]
  },
  {
   "cell_type": "markdown",
   "metadata": {},
   "source": [
    "https://www.hackerrank.com/challenges/repeated-string/problem?h_l=interview&playlist_slugs%5B%5D=interview-preparation-kit&playlist_slugs%5B%5D=warmup"
   ]
  },
  {
   "cell_type": "code",
   "execution_count": 17,
   "metadata": {},
   "outputs": [
    {
     "name": "stdin",
     "output_type": "stream",
     "text": [
      " abcac\n",
      " 10\n"
     ]
    },
    {
     "name": "stdout",
     "output_type": "stream",
     "text": [
      "4\n"
     ]
    }
   ],
   "source": [
    "#!/bin/python3\n",
    "\n",
    "# Complete the repeatedString function below.\n",
    "def repeatedString(s, n):\n",
    "    \n",
    "    count = 0\n",
    "    for ch in s:\n",
    "        if ch == 'a':\n",
    "            count+=1\n",
    "    \n",
    "    rem = n%len(s)\n",
    "    if rem==0:\n",
    "        return count*(n//len(s))\n",
    "    else:\n",
    "        count = count*(n//len(s))\n",
    "        for i in range(rem):\n",
    "            if s[i] == 'a':\n",
    "                count+=1\n",
    "        return count          \n",
    "        \n",
    "        \n",
    "if __name__ == '__main__':\n",
    "    s = input()\n",
    "    n = int(input())\n",
    "    result = repeatedString(s, n)\n",
    "    print(result)"
   ]
  }
 ],
 "metadata": {
  "kernelspec": {
   "display_name": "Python 3",
   "language": "python",
   "name": "python3"
  },
  "language_info": {
   "codemirror_mode": {
    "name": "ipython",
    "version": 3
   },
   "file_extension": ".py",
   "mimetype": "text/x-python",
   "name": "python",
   "nbconvert_exporter": "python",
   "pygments_lexer": "ipython3",
   "version": "3.8.5"
  }
 },
 "nbformat": 4,
 "nbformat_minor": 4
}
