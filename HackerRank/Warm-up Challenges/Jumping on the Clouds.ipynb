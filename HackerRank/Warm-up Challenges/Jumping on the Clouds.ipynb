{
 "cells": [
  {
   "cell_type": "markdown",
   "metadata": {},
   "source": [
    "# Jumping on the Clouds"
   ]
  },
  {
   "cell_type": "markdown",
   "metadata": {},
   "source": [
    "https://www.hackerrank.com/challenges/jumping-on-the-clouds/problem?h_l=interview&playlist_slugs%5B%5D=interview-preparation-kit&playlist_slugs%5B%5D=warmup"
   ]
  },
  {
   "cell_type": "code",
   "execution_count": 17,
   "metadata": {},
   "outputs": [
    {
     "name": "stdin",
     "output_type": "stream",
     "text": [
      " 3\n",
      " 0 0 0\n"
     ]
    },
    {
     "name": "stdout",
     "output_type": "stream",
     "text": [
      "1\n"
     ]
    }
   ],
   "source": [
    "#!/bin/python3\n",
    "\n",
    "# Complete the jumpingOnClouds function below.\n",
    "def jumpingOnClouds(c):\n",
    "    idx = 0\n",
    "    jump = 0\n",
    "    while idx < (len(c)-1):\n",
    "        if idx+2 < len(c):\n",
    "            if (c[idx+1] == 0 or c[idx+1] == 1) and c[idx+2] == 0:\n",
    "                idx+=2\n",
    "            elif c[idx+1] == 0 and c[idx+2] == 1:\n",
    "                idx+=1\n",
    "        else:\n",
    "            idx+=1\n",
    "        jump+=1\n",
    "    return jump        \n",
    "\n",
    "if __name__ == '__main__':\n",
    "    n = int(input())\n",
    "    c = list(map(int, input().rstrip().split()))\n",
    "    result = jumpingOnClouds(c)\n",
    "    print(result)"
   ]
  }
 ],
 "metadata": {
  "kernelspec": {
   "display_name": "Python 3",
   "language": "python",
   "name": "python3"
  },
  "language_info": {
   "codemirror_mode": {
    "name": "ipython",
    "version": 3
   },
   "file_extension": ".py",
   "mimetype": "text/x-python",
   "name": "python",
   "nbconvert_exporter": "python",
   "pygments_lexer": "ipython3",
   "version": "3.8.5"
  }
 },
 "nbformat": 4,
 "nbformat_minor": 4
}
