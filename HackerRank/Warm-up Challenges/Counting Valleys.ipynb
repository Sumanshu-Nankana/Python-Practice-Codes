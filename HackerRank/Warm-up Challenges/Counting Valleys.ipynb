{
 "cells": [
  {
   "cell_type": "markdown",
   "metadata": {},
   "source": [
    "# Counting Valleys"
   ]
  },
  {
   "cell_type": "markdown",
   "metadata": {},
   "source": [
    "https://www.hackerrank.com/challenges/counting-valleys/problem?h_l=interview&playlist_slugs%5B%5D=interview-preparation-kit&playlist_slugs%5B%5D=warmup"
   ]
  },
  {
   "cell_type": "markdown",
   "metadata": {},
   "source": [
    "### Method-1"
   ]
  },
  {
   "cell_type": "code",
   "execution_count": 15,
   "metadata": {},
   "outputs": [
    {
     "name": "stdin",
     "output_type": "stream",
     "text": [
      " 8\n",
      " UDDDUDUU\n"
     ]
    },
    {
     "name": "stdout",
     "output_type": "stream",
     "text": [
      "1\n"
     ]
    }
   ],
   "source": [
    "#!/bin/python3\n",
    "\n",
    "# Complete the 'countingValleys' function below.\n",
    "#\n",
    "# The function is expected to return an INTEGER.\n",
    "# The function accepts following parameters:\n",
    "#  1. INTEGER steps\n",
    "#  2. STRING path\n",
    "#\n",
    "\n",
    "def countingValleys(steps, path):\n",
    "    # Write your code here\n",
    "    ar = []\n",
    "    c = 0\n",
    "    for p in path:\n",
    "        if p == 'U':\n",
    "            c+=1\n",
    "            ar.append(c)\n",
    "        if p == 'D':\n",
    "            c-=1\n",
    "            ar.append(c)\n",
    "            \n",
    "    return sum([1 for idx,ele in enumerate(ar) if ele==0 and ar[idx-1]<0])\n",
    "\n",
    "if __name__ == '__main__':\n",
    "    steps = int(input().strip())\n",
    "    path = input()\n",
    "    result = countingValleys(steps, path)\n",
    "    print(result)"
   ]
  },
  {
   "cell_type": "markdown",
   "metadata": {},
   "source": [
    "### Method-2 (much efficient)"
   ]
  },
  {
   "cell_type": "code",
   "execution_count": null,
   "metadata": {},
   "outputs": [],
   "source": [
    "#!/bin/python3\n",
    "\n",
    "# Complete the 'countingValleys' function below.\n",
    "#\n",
    "# The function is expected to return an INTEGER.\n",
    "# The function accepts following parameters:\n",
    "#  1. INTEGER steps\n",
    "#  2. STRING path\n",
    "#\n",
    "\n",
    "def countingValleys(steps, path):\n",
    "    # Write your code here\n",
    "    valleys = 0\n",
    "    c = 0\n",
    "    for p in path:\n",
    "        if p == 'U':\n",
    "            c+=1\n",
    "        if p == 'D':\n",
    "            c-=1\n",
    "        # if step is UP, and c==0 (means sea level)\n",
    "        # So it came out of valley\n",
    "        # so valley is 1\n",
    "        if c == 0 and p == 'U':\n",
    "            valleys+=1\n",
    "            \n",
    "    return valleys\n",
    "\n",
    "if __name__ == '__main__':\n",
    "    steps = int(input().strip())\n",
    "    path = input()\n",
    "    result = countingValleys(steps, path)\n",
    "    print(result)"
   ]
  }
 ],
 "metadata": {
  "kernelspec": {
   "display_name": "Python 3",
   "language": "python",
   "name": "python3"
  },
  "language_info": {
   "codemirror_mode": {
    "name": "ipython",
    "version": 3
   },
   "file_extension": ".py",
   "mimetype": "text/x-python",
   "name": "python",
   "nbconvert_exporter": "python",
   "pygments_lexer": "ipython3",
   "version": "3.8.5"
  }
 },
 "nbformat": 4,
 "nbformat_minor": 4
}
