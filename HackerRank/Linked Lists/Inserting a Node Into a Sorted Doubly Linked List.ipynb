{
 "cells": [
  {
   "cell_type": "markdown",
   "metadata": {},
   "source": [
    "https://www.hackerrank.com/challenges/insert-a-node-into-a-sorted-doubly-linked-list/problem?h_l=interview&playlist_slugs%5B%5D=interview-preparation-kit&playlist_slugs%5B%5D=linked-lists&h_r=next-challenge&h_v=zen"
   ]
  },
  {
   "cell_type": "markdown",
   "metadata": {},
   "source": [
    "# Inserting a Node Into a Sorted Doubly Linked List"
   ]
  },
  {
   "cell_type": "code",
   "execution_count": 9,
   "metadata": {},
   "outputs": [
    {
     "name": "stdin",
     "output_type": "stream",
     "text": [
      " 1\n",
      " 4\n",
      " 1\n",
      " 3\n",
      " 4\n",
      " 10\n",
      " 14\n"
     ]
    },
    {
     "name": "stdout",
     "output_type": "stream",
     "text": [
      "1\n",
      " \n",
      "3\n",
      " \n",
      "4\n",
      " \n",
      "10\n",
      " \n",
      "14\n"
     ]
    }
   ],
   "source": [
    "#!/bin/python3\n",
    "class DoublyLinkedListNode:\n",
    "    def __init__(self, node_data):\n",
    "        self.data = node_data\n",
    "        self.next = None\n",
    "        self.prev = None\n",
    "\n",
    "class DoublyLinkedList:\n",
    "    def __init__(self):\n",
    "        self.head = None\n",
    "        self.tail = None\n",
    "\n",
    "    def insert_node(self, node_data):\n",
    "        node = DoublyLinkedListNode(node_data)\n",
    "\n",
    "        if not self.head:\n",
    "            self.head = node\n",
    "        else:\n",
    "            self.tail.next = node\n",
    "            node.prev = self.tail\n",
    "\n",
    "\n",
    "        self.tail = node\n",
    "\n",
    "def print_doubly_linked_list(node, sep):\n",
    "    while node:\n",
    "        print(node.data)\n",
    "        node = node.next\n",
    "        if node:\n",
    "            print(sep)\n",
    "\n",
    "# Complete the sortedInsert function below.\n",
    "\n",
    "#\n",
    "# For your reference:\n",
    "#\n",
    "# DoublyLinkedListNode:\n",
    "#     int data\n",
    "#     DoublyLinkedListNode next\n",
    "#     DoublyLinkedListNode prev\n",
    "#\n",
    "#\n",
    "def sortedInsert(head, data):\n",
    "    node = DoublyLinkedListNode(data)\n",
    "    if head.data > node.data:\n",
    "        node.next = head\n",
    "        head.prev = node\n",
    "        head = node\n",
    "        return head\n",
    "    else:\n",
    "        curr = head\n",
    "        while curr.next is not None:\n",
    "            if curr.next.data <= node.data:\n",
    "                curr = curr.next\n",
    "            else:\n",
    "                break\n",
    "        if curr.next is not None:\n",
    "            node.next = curr.next\n",
    "            curr.next.prev = node\n",
    "            curr.next = node\n",
    "            node.prev = curr\n",
    "        else:\n",
    "            curr.next = node\n",
    "            node.prev = curr\n",
    "        return head\n",
    "\n",
    "if __name__ == '__main__':\n",
    "    t = int(input())\n",
    "    for t_itr in range(t):\n",
    "        llist_count = int(input())\n",
    "        llist = DoublyLinkedList()\n",
    "        for _ in range(llist_count):\n",
    "            llist_item = int(input())\n",
    "            llist.insert_node(llist_item)\n",
    "        data = int(input())\n",
    "        llist1 = sortedInsert(llist.head, data)\n",
    "        print_doubly_linked_list(llist1, ' ')"
   ]
  }
 ],
 "metadata": {
  "kernelspec": {
   "display_name": "Python 3",
   "language": "python",
   "name": "python3"
  },
  "language_info": {
   "codemirror_mode": {
    "name": "ipython",
    "version": 3
   },
   "file_extension": ".py",
   "mimetype": "text/x-python",
   "name": "python",
   "nbconvert_exporter": "python",
   "pygments_lexer": "ipython3",
   "version": "3.8.5"
  }
 },
 "nbformat": 4,
 "nbformat_minor": 4
}
