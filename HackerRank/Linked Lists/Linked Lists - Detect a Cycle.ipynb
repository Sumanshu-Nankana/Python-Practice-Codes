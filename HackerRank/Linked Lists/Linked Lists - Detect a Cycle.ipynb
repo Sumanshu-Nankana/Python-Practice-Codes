{
 "cells": [
  {
   "cell_type": "markdown",
   "metadata": {},
   "source": [
    "https://www.hackerrank.com/challenges/ctci-linked-list-cycle/problem?h_l=interview&playlist_slugs%5B%5D=interview-preparation-kit&playlist_slugs%5B%5D=linked-lists&h_r=next-challenge&h_v=zen"
   ]
  },
  {
   "cell_type": "markdown",
   "metadata": {},
   "source": [
    "# Linked Lists: Detect a Cycle"
   ]
  },
  {
   "cell_type": "markdown",
   "metadata": {},
   "source": [
    "#### Metohod -1"
   ]
  },
  {
   "cell_type": "code",
   "execution_count": null,
   "metadata": {},
   "outputs": [],
   "source": [
    "\"\"\"\n",
    "Detect a cycle in a linked list. Note that the head pointer may be 'None' if the list is empty.\n",
    "\n",
    "A Node is defined as: \n",
    " \n",
    "    class Node(object):\n",
    "        def __init__(self, data = None, next_node = None):\n",
    "            self.data = data\n",
    "            self.next = next_node\n",
    "\"\"\"\n",
    "\n",
    "def has_cycle(head):\n",
    "    visited = {}\n",
    "    current = head\n",
    "    while current:\n",
    "        visited[current] = 1\n",
    "        # if next head element exists in visited already (i.e. value non-zero), it means cycle\n",
    "        if visited.get(current.next, 0) != 0:\n",
    "            return True\n",
    "        current = current.next\n",
    "    return False"
   ]
  },
  {
   "cell_type": "markdown",
   "metadata": {},
   "source": [
    "#### Method-2"
   ]
  },
  {
   "cell_type": "code",
   "execution_count": null,
   "metadata": {},
   "outputs": [],
   "source": [
    "# In Question - it's given max size of list can be 100\n",
    "# So, we run the count, if count > 100 - it means there is a cycle\n",
    "\n",
    "def has_cycle(head):\n",
    "    count = 0\n",
    "    current = head\n",
    "    while current:\n",
    "        count += 1\n",
    "        if count > 100:\n",
    "            return True\n",
    "        current = current.next\n",
    "    return False"
   ]
  }
 ],
 "metadata": {
  "kernelspec": {
   "display_name": "Python 3",
   "language": "python",
   "name": "python3"
  },
  "language_info": {
   "codemirror_mode": {
    "name": "ipython",
    "version": 3
   },
   "file_extension": ".py",
   "mimetype": "text/x-python",
   "name": "python",
   "nbconvert_exporter": "python",
   "pygments_lexer": "ipython3",
   "version": "3.8.5"
  }
 },
 "nbformat": 4,
 "nbformat_minor": 4
}
