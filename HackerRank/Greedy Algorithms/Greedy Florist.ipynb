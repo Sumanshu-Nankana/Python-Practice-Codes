{
 "cells": [
  {
   "cell_type": "markdown",
   "metadata": {},
   "source": [
    "https://www.hackerrank.com/challenges/greedy-florist/problem?h_l=interview&playlist_slugs%5B%5D=interview-preparation-kit&playlist_slugs%5B%5D=greedy-algorithms"
   ]
  },
  {
   "cell_type": "markdown",
   "metadata": {},
   "source": [
    "# Greedy Florist"
   ]
  },
  {
   "cell_type": "code",
   "execution_count": 12,
   "metadata": {},
   "outputs": [
    {
     "name": "stdin",
     "output_type": "stream",
     "text": [
      " 5 3\n",
      " 1 3 5 7 9\n"
     ]
    },
    {
     "name": "stdout",
     "output_type": "stream",
     "text": [
      "0 0\n",
      "3 1\n",
      "29\n"
     ]
    }
   ],
   "source": [
    "#!/bin/python3\n",
    "\n",
    "# Complete the getMinimumCost function below.\n",
    "def getMinimumCost(k, c):\n",
    "    c.sort(reverse=True)\n",
    "    l = len(c)\n",
    "    min_price = 0\n",
    "    for i in range(0, l, k):\n",
    "        min_price = min_price + sum(c[i:i+k])*((i//k)+1)    \n",
    "    return min_price\n",
    "\n",
    "if __name__ == '__main__':\n",
    "    nk = input().split()\n",
    "    n = int(nk[0])\n",
    "    k = int(nk[1])\n",
    "    c = list(map(int, input().rstrip().split()))\n",
    "    minimumCost = getMinimumCost(k, c)\n",
    "    print(minimumCost)"
   ]
  }
 ],
 "metadata": {
  "kernelspec": {
   "display_name": "Python 3",
   "language": "python",
   "name": "python3"
  },
  "language_info": {
   "codemirror_mode": {
    "name": "ipython",
    "version": 3
   },
   "file_extension": ".py",
   "mimetype": "text/x-python",
   "name": "python",
   "nbconvert_exporter": "python",
   "pygments_lexer": "ipython3",
   "version": "3.8.5"
  }
 },
 "nbformat": 4,
 "nbformat_minor": 4
}
