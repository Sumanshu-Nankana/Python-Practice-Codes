{
 "cells": [
  {
   "cell_type": "markdown",
   "metadata": {},
   "source": [
    "https://www.hackerrank.com/challenges/angry-children/problem?h_l=interview&playlist_slugs%5B%5D=interview-preparation-kit&playlist_slugs%5B%5D=greedy-algorithms&h_r=next-challenge&h_v=zen"
   ]
  },
  {
   "cell_type": "markdown",
   "metadata": {},
   "source": [
    "# Max Min"
   ]
  },
  {
   "cell_type": "markdown",
   "metadata": {},
   "source": [
    "#### Method-1 (Almost all Test cases Failed - Because of Run Time Error)\n",
    "#### Probably it's because it consumes a lot of memory"
   ]
  },
  {
   "cell_type": "code",
   "execution_count": 2,
   "metadata": {},
   "outputs": [
    {
     "name": "stdin",
     "output_type": "stream",
     "text": [
      " 7\n",
      " 3\n",
      " 10\n",
      " 100\n",
      " 300\n",
      " 200\n",
      " 1000\n",
      " 20\n",
      " 30\n"
     ]
    },
    {
     "name": "stdout",
     "output_type": "stream",
     "text": [
      "[(10, 100, 300), (10, 100, 200), (10, 100, 1000), (10, 100, 20), (10, 100, 30), (10, 300, 200), (10, 300, 1000), (10, 300, 20), (10, 300, 30), (10, 200, 1000), (10, 200, 20), (10, 200, 30), (10, 1000, 20), (10, 1000, 30), (10, 20, 30), (100, 300, 200), (100, 300, 1000), (100, 300, 20), (100, 300, 30), (100, 200, 1000), (100, 200, 20), (100, 200, 30), (100, 1000, 20), (100, 1000, 30), (100, 20, 30), (300, 200, 1000), (300, 200, 20), (300, 200, 30), (300, 1000, 20), (300, 1000, 30), (300, 20, 30), (200, 1000, 20), (200, 1000, 30), (200, 20, 30), (1000, 20, 30)]\n",
      "None\n"
     ]
    }
   ],
   "source": [
    "#!/bin/python3\n",
    "#\n",
    "# Complete the 'maxMin' function below.\n",
    "#\n",
    "# The function is expected to return an INTEGER.\n",
    "# The function accepts following parameters:\n",
    "#  1. INTEGER k\n",
    "#  2. INTEGER_ARRAY arr\n",
    "#\n",
    "\n",
    "from itertools import combinations\n",
    "def maxMin(k, arr):\n",
    "    l = list(combinations(arr, k))\n",
    "    minimum = 9999999\n",
    "    for i in l: \n",
    "        diff = max(i) - min(i)\n",
    "        minimum = min(minimum, diff)\n",
    "    return minimum\n",
    "    \n",
    "if __name__ == '__main__':\n",
    "    n = int(input().strip())\n",
    "    k = int(input().strip())\n",
    "    arr = []\n",
    "    for _ in range(n):\n",
    "        arr_item = int(input().strip())\n",
    "        arr.append(arr_item)\n",
    "    result = maxMin(k, arr)\n",
    "    print(result)"
   ]
  },
  {
   "cell_type": "markdown",
   "metadata": {},
   "source": [
    "#### Method-2 "
   ]
  },
  {
   "cell_type": "code",
   "execution_count": 3,
   "metadata": {},
   "outputs": [
    {
     "name": "stdin",
     "output_type": "stream",
     "text": [
      " 10\n",
      " 4\n",
      " 1\n",
      " 2\n",
      " 3\n",
      " 4\n",
      " 10\n",
      " 20\n",
      " 30\n",
      " 40\n",
      " 100\n",
      " 200\n"
     ]
    },
    {
     "name": "stdout",
     "output_type": "stream",
     "text": [
      "0 2\n",
      "1 2\n",
      "2 7\n",
      "3 16\n",
      "4 20\n",
      "5 20\n",
      "6 70\n",
      "7 160\n",
      "2\n"
     ]
    }
   ],
   "source": [
    "import math\n",
    "def maxMin(k, arr):\n",
    "    arr.sort()\n",
    "    l = len(arr)\n",
    "    k = k - 1\n",
    "    minimum = math.pow(10,10)\n",
    "    for i in range(l-k):\n",
    "        diff = arr[i+k] - arr[i]\n",
    "        minimum = min(minimum, diff)\n",
    "    return minimum\n",
    "    \n",
    "if __name__ == '__main__':\n",
    "    n = int(input().strip())\n",
    "    k = int(input().strip())\n",
    "    arr = []\n",
    "    for _ in range(n):\n",
    "        arr_item = int(input().strip())\n",
    "        arr.append(arr_item)\n",
    "    result = maxMin(k, arr)\n",
    "    print(result)"
   ]
  }
 ],
 "metadata": {
  "kernelspec": {
   "display_name": "Python 3",
   "language": "python",
   "name": "python3"
  },
  "language_info": {
   "codemirror_mode": {
    "name": "ipython",
    "version": 3
   },
   "file_extension": ".py",
   "mimetype": "text/x-python",
   "name": "python",
   "nbconvert_exporter": "python",
   "pygments_lexer": "ipython3",
   "version": "3.8.5"
  }
 },
 "nbformat": 4,
 "nbformat_minor": 4
}
