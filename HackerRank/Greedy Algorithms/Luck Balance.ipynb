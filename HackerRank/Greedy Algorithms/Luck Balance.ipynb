{
 "cells": [
  {
   "cell_type": "markdown",
   "metadata": {},
   "source": [
    "https://www.hackerrank.com/challenges/luck-balance/problem?h_l=interview&playlist_slugs%5B%5D=interview-preparation-kit&playlist_slugs%5B%5D=greedy-algorithms"
   ]
  },
  {
   "cell_type": "markdown",
   "metadata": {},
   "source": [
    "# Luck Balance"
   ]
  },
  {
   "cell_type": "code",
   "execution_count": 9,
   "metadata": {},
   "outputs": [
    {
     "name": "stdin",
     "output_type": "stream",
     "text": [
      " 3 1\n",
      " 5 1\n",
      " 2 1\n",
      " 4 0\n"
     ]
    },
    {
     "name": "stdout",
     "output_type": "stream",
     "text": [
      "7\n"
     ]
    }
   ],
   "source": [
    "#!/bin/python3\n",
    "#\n",
    "# Complete the 'luckBalance' function below.\n",
    "#\n",
    "# The function is expected to return an INTEGER.\n",
    "# The function accepts following parameters:\n",
    "#  1. INTEGER k\n",
    "#  2. 2D_INTEGER_ARRAY contests\n",
    "#\n",
    "from collections import defaultdict\n",
    "def luckBalance(k, contests):\n",
    "    # Write your code here\n",
    "    dic = defaultdict(list)\n",
    "    max_luck_balance = 0\n",
    "    for l,t in contests:\n",
    "        dic[t].append(l)\n",
    "    \n",
    "    dic[1].sort(reverse=True)\n",
    "    dic[0].sort(reverse=True)\n",
    "    \n",
    "    for i in dic[1]:\n",
    "        if k > 0:\n",
    "            max_luck_balance += i\n",
    "            k = k - 1\n",
    "        else:\n",
    "            max_luck_balance -= i\n",
    "    \n",
    "    for j in dic[0]:\n",
    "        max_luck_balance += j\n",
    "    \n",
    "    return max_luck_balance\n",
    "    \n",
    "\n",
    "if __name__ == '__main__':\n",
    "    first_multiple_input = input().rstrip().split()\n",
    "    n = int(first_multiple_input[0])\n",
    "    k = int(first_multiple_input[1])\n",
    "    contests = []\n",
    "    for _ in range(n):\n",
    "        contests.append(list(map(int, input().rstrip().split())))\n",
    "    result = luckBalance(k, contests)\n",
    "    print(result)"
   ]
  }
 ],
 "metadata": {
  "kernelspec": {
   "display_name": "Python 3",
   "language": "python",
   "name": "python3"
  },
  "language_info": {
   "codemirror_mode": {
    "name": "ipython",
    "version": 3
   },
   "file_extension": ".py",
   "mimetype": "text/x-python",
   "name": "python",
   "nbconvert_exporter": "python",
   "pygments_lexer": "ipython3",
   "version": "3.8.5"
  }
 },
 "nbformat": 4,
 "nbformat_minor": 4
}
