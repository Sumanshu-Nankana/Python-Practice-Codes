{
 "cells": [
  {
   "cell_type": "markdown",
   "metadata": {},
   "source": [
    "https://www.hackerrank.com/challenges/reverse-shuffle-merge/problem?h_l=interview&h_r=next-challenge&h_v=zen&playlist_slugs%5B%5D=interview-preparation-kit&playlist_slugs%5B%5D=greedy-algorithms&h_r=next-challenge&h_v=zen"
   ]
  },
  {
   "cell_type": "markdown",
   "metadata": {},
   "source": [
    "# Reverse Shuffle Merge"
   ]
  },
  {
   "cell_type": "code",
   "execution_count": null,
   "metadata": {},
   "outputs": [],
   "source": [
    "#!/bin/python3\n",
    "\n",
    "import math\n",
    "import os\n",
    "import random\n",
    "import re\n",
    "import sys\n",
    "\n",
    "#\n",
    "# Complete the 'reverseShuffleMerge' function below.\n",
    "#\n",
    "# The function is expected to return a STRING.\n",
    "# The function accepts STRING s as parameter.\n",
    "#\n",
    "\n",
    "def reverseShuffleMerge(s):\n",
    "    s = list(reversed(s))\n",
    "    remaining_dict,required_dict,added_dict = {},{},{}\n",
    "    for c in s:\n",
    "        if c not in remaining_dict:\n",
    "            remaining_dict[c]=1\n",
    "        else:\n",
    "            remaining_dict[c]+=1\n",
    "    for key,value in remaining_dict.items():\n",
    "        required_dict[key] = value // 2\n",
    "        added_dict[key] = 0\n",
    "    char_list=[]\n",
    "    index = 0\n",
    "    min_index = 0\n",
    "    min_char = '|'\n",
    "    while index < len(s):\n",
    "        char = s[index]\n",
    "        if required_dict[char]>added_dict[char]:\n",
    "            if char < min_char:\n",
    "                min_char = char\n",
    "                min_index = index\n",
    "            if remaining_dict[char]-1<required_dict[char]-added_dict[char]:\n",
    "                while index>min_index:\n",
    "                    index-=1\n",
    "                    char = s[index]\n",
    "                    remaining_dict[char]+=1\n",
    "                added_dict[char]+=1\n",
    "                char_list.append(char)\n",
    "                min_char = '|'\n",
    "        remaining_dict[char]-=1\n",
    "        index+=1\n",
    "    return \"\".join(char_list)\n",
    "\n",
    "if __name__ == '__main__':\n",
    "    fptr = open(os.environ['OUTPUT_PATH'], 'w')\n",
    "\n",
    "    s = input()\n",
    "\n",
    "    result = reverseShuffleMerge(s)\n",
    "\n",
    "    fptr.write(result + '\\n')\n",
    "\n",
    "    fptr.close()"
   ]
  }
 ],
 "metadata": {
  "kernelspec": {
   "display_name": "Python 3",
   "language": "python",
   "name": "python3"
  },
  "language_info": {
   "codemirror_mode": {
    "name": "ipython",
    "version": 3
   },
   "file_extension": ".py",
   "mimetype": "text/x-python",
   "name": "python",
   "nbconvert_exporter": "python",
   "pygments_lexer": "ipython3",
   "version": "3.8.5"
  }
 },
 "nbformat": 4,
 "nbformat_minor": 4
}
