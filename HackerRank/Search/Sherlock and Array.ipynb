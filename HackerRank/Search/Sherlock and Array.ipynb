{
 "cells": [
  {
   "cell_type": "markdown",
   "metadata": {},
   "source": [
    "https://www.hackerrank.com/challenges/sherlock-and-array/problem"
   ]
  },
  {
   "cell_type": "markdown",
   "metadata": {},
   "source": [
    "# Sherlock and Array"
   ]
  },
  {
   "cell_type": "raw",
   "metadata": {},
   "source": [
    "Approach:\n",
    "Given Array: [5, 6, 8, 11]\n",
    "output: YES (Because we have such point i.e. element '8' whose Left hand side sum (5+6))\n",
    "is equal to Right hand sum 11\n",
    "\n",
    "1) Find the total sum of array , 5+6+8+11 = 30\n",
    "2) Create an array, where each element stored sum of it's previous element [5, 11, 19, 30]\n",
    "3) Now we need to check each element from original array, whether it can be treated as balanced point or not.\n",
    "\n",
    "pick 5:\n",
    "left_sum = 5-5 = 0\n",
    "right_sum = 30-5 = 25\n",
    "\n",
    "pick 6:\n",
    "left_sum = 11-6 = 5\n",
    "right_sum = 30-11 = 19\n",
    "\n",
    "pick 8:\n",
    "left_sum = 19-8 = 11\n",
    "right_sum = 30-19 = 11\n",
    "So left_sum = right_sum ; we found point, return YES"
   ]
  },
  {
   "cell_type": "code",
   "execution_count": 10,
   "metadata": {},
   "outputs": [
    {
     "name": "stdin",
     "output_type": "stream",
     "text": [
      " 1\n",
      " 1\n",
      " 1\n"
     ]
    },
    {
     "name": "stdout",
     "output_type": "stream",
     "text": [
      "YES\n"
     ]
    }
   ],
   "source": [
    "#!/bin/python3\n",
    "#\n",
    "# Complete the 'balancedSums' function below.\n",
    "#\n",
    "# The function is expected to return a STRING.\n",
    "# The function accepts INTEGER_ARRAY arr as parameter.\n",
    "#\n",
    "\n",
    "def balancedSums(arr):\n",
    "    \n",
    "    # Total array sum\n",
    "    total_sum = sum(arr)\n",
    "    \n",
    "    # Extra array, havin sum of all previous\n",
    "    extra_arr = []\n",
    "    temp = 0\n",
    "    for ele in arr:\n",
    "        temp = ele + temp\n",
    "        extra_arr.append(temp)\n",
    "    \n",
    "    # Check balanced point\n",
    "    left_sum = 0\n",
    "    right_sum = 0\n",
    "    for i in range(len(arr)):\n",
    "        left_sum = extra_arr[i] - arr[i]\n",
    "        right_sum = total_sum - extra_arr[i]\n",
    "        if left_sum == right_sum:\n",
    "            return 'YES'\n",
    "    return 'NO'\n",
    "\n",
    "if __name__ == '__main__':\n",
    "    T = int(input().strip())\n",
    "    for T_itr in range(T):\n",
    "        n = int(input().strip())\n",
    "        arr = list(map(int, input().rstrip().split()))\n",
    "        result = balancedSums(arr)\n",
    "        print(result)"
   ]
  }
 ],
 "metadata": {
  "kernelspec": {
   "display_name": "Python 3",
   "language": "python",
   "name": "python3"
  },
  "language_info": {
   "codemirror_mode": {
    "name": "ipython",
    "version": 3
   },
   "file_extension": ".py",
   "mimetype": "text/x-python",
   "name": "python",
   "nbconvert_exporter": "python",
   "pygments_lexer": "ipython3",
   "version": "3.8.5"
  }
 },
 "nbformat": 4,
 "nbformat_minor": 4
}
