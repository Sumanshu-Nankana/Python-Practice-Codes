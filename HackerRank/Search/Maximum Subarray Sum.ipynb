{
 "cells": [
  {
   "cell_type": "markdown",
   "metadata": {},
   "source": [
    "https://www.hackerrank.com/challenges/maximum-subarray-sum/problem?h_l=interview&playlist_slugs%5B%5D=interview-preparation-kit&playlist_slugs%5B%5D=search"
   ]
  },
  {
   "cell_type": "markdown",
   "metadata": {},
   "source": [
    "# Maximum Subarray Sum"
   ]
  },
  {
   "cell_type": "markdown",
   "metadata": {},
   "source": [
    "#### Method-1 - Most Test Cases Failed with TLE"
   ]
  },
  {
   "cell_type": "raw",
   "metadata": {},
   "source": [
    "Approach - O(n^2)\n",
    "\n",
    "Run 2 for loops, \n",
    "and in 2nd loop, just add next number , because we already calculated previous sum.\n",
    "Then find modulous and find max"
   ]
  },
  {
   "cell_type": "code",
   "execution_count": null,
   "metadata": {},
   "outputs": [],
   "source": [
    "#!/bin/python3\n",
    "\n",
    "def maximumSum(a, m):\n",
    "    # Write your code here\n",
    "    n = len(a)\n",
    "    maxSubSum = -999999999\n",
    "    for left in range(0, n):\n",
    "        runningSum = 0\n",
    "        for right in range(left, n):\n",
    "            runningSum = runningSum + a[right]\n",
    "            modSum = runningSum % m\n",
    "            maxSubSum = max(maxSubSum, modSum)\n",
    "    return maxSubSum\n",
    "\n",
    "if __name__ == '__main__':\n",
    "    q = int(input().strip())\n",
    "    for q_itr in range(q):\n",
    "        first_multiple_input = input().rstrip().split()\n",
    "        n = int(first_multiple_input[0])\n",
    "        m = int(first_multiple_input[1])\n",
    "        a = list(map(int, input().rstrip().split()))\n",
    "        result = maximumSum(a, m)"
   ]
  }
 ],
 "metadata": {
  "kernelspec": {
   "display_name": "Python 3",
   "language": "python",
   "name": "python3"
  },
  "language_info": {
   "codemirror_mode": {
    "name": "ipython",
    "version": 3
   },
   "file_extension": ".py",
   "mimetype": "text/x-python",
   "name": "python",
   "nbconvert_exporter": "python",
   "pygments_lexer": "ipython3",
   "version": "3.8.5"
  }
 },
 "nbformat": 4,
 "nbformat_minor": 4
}
