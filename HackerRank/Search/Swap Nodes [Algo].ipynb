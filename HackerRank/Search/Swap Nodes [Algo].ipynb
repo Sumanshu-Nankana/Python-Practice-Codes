{
 "cells": [
  {
   "cell_type": "markdown",
   "metadata": {},
   "source": [
    "https://www.hackerrank.com/challenges/swap-nodes-algo/problem?h_l=interview&playlist_slugs%5B%5D=interview-preparation-kit&playlist_slugs%5B%5D=search&h_r=next-challenge&h_v=zen"
   ]
  },
  {
   "cell_type": "markdown",
   "metadata": {},
   "source": [
    "# Swap Nodes [Algo]"
   ]
  },
  {
   "cell_type": "raw",
   "metadata": {},
   "source": [
    "Approach:\n",
    "\n",
    "Create a Tree from a given input list - for this\n",
    "\n",
    "a) create a Node class\n",
    "b) Create a root node (as it always be 1)\n",
    "c) create a tree from indexes (array); we will use the dequeue (for level order traversal and to create a tree)\n",
    "\n",
    "Run a loop on queries (to swap the tree on that particular level)\n",
    "Simply we swap left and right tree in single line"
   ]
  },
  {
   "cell_type": "code",
   "execution_count": null,
   "metadata": {},
   "outputs": [],
   "source": [
    "#!/bin/python3\n",
    "\n",
    "import os\n",
    "import sys\n",
    "from collections import deque\n",
    "sys.setrecursionlimit(15000) # for last 2 test cases\n",
    "# create a node\n",
    "class Node:\n",
    "    def __init__(self, val):\n",
    "        self.value = val\n",
    "        self.left = None\n",
    "        self.right = None\n",
    "#\n",
    "# Complete the swapNodes function below.\n",
    "#\n",
    "def swapNodes(indexes, queries):\n",
    "    #\n",
    "    # Write your code here.\n",
    "    #\n",
    "    # create a root node\n",
    "    root = Node(1)\n",
    "    \n",
    "    # Insert into queue\n",
    "    q = deque([root])\n",
    "    \n",
    "    # Create a tree ; \n",
    "    for x, y in indexes:\n",
    "        # pop first element\n",
    "        temp = q.popleft()\n",
    "        # insert left child\n",
    "        if x!=-1:\n",
    "            temp.left = Node(x)\n",
    "            q.append(temp.left)\n",
    "        # insert right child\n",
    "        if y!=-1:\n",
    "            temp.right = Node(y)\n",
    "            q.append(temp.right)\n",
    "    \n",
    "    def swap(root, k, level, l):\n",
    "        if root:\n",
    "            if level%k==0:\n",
    "                root.left, root.right = root.right, root.left\n",
    "            \n",
    "            # inorder traversal\n",
    "            swap(root.left, k, level+1, l)\n",
    "            l.append(root.value)\n",
    "            swap(root.right, k, level+1, l)\n",
    "            \n",
    "    # process the queries array\n",
    "    result = []  # to store the final result\n",
    "    for k in queries:\n",
    "        # array to store inorder traversal order\n",
    "        l = []\n",
    "        swap(root, k, 1, l) # 1 is a level-1 \n",
    "        result.append(l)\n",
    "\n",
    "    return result\n",
    "\n",
    "if __name__ == '__main__':\n",
    "    n = int(input())\n",
    "    indexes = []\n",
    "    for _ in range(n):\n",
    "        indexes.append(list(map(int, input().rstrip().split())))\n",
    "    queries_count = int(input())\n",
    "    queries = []\n",
    "    for _ in range(queries_count):\n",
    "        queries_item = int(input())\n",
    "        queries.append(queries_item)\n",
    "    result = swapNodes(indexes, queries)"
   ]
  }
 ],
 "metadata": {
  "kernelspec": {
   "display_name": "Python 3",
   "language": "python",
   "name": "python3"
  },
  "language_info": {
   "codemirror_mode": {
    "name": "ipython",
    "version": 3
   },
   "file_extension": ".py",
   "mimetype": "text/x-python",
   "name": "python",
   "nbconvert_exporter": "python",
   "pygments_lexer": "ipython3",
   "version": "3.8.5"
  }
 },
 "nbformat": 4,
 "nbformat_minor": 4
}
