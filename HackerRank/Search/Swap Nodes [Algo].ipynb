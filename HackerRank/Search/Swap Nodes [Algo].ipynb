{
 "cells": [
  {
   "cell_type": "markdown",
   "metadata": {},
   "source": [
    "https://www.hackerrank.com/challenges/swap-nodes-algo/problem?h_l=interview&playlist_slugs%5B%5D=interview-preparation-kit&playlist_slugs%5B%5D=search&h_r=next-challenge&h_v=zen"
   ]
  },
  {
   "cell_type": "markdown",
   "metadata": {},
   "source": [
    "# Swap Nodes [Algo]"
   ]
  },
  {
   "cell_type": "code",
   "execution_count": null,
   "metadata": {},
   "outputs": [],
   "source": [
    "#!/bin/python3\n",
    "\n",
    "import os\n",
    "import sys\n",
    "\n",
    "#\n",
    "# Complete the swapNodes function below.\n",
    "#\n",
    "def swapNodes(indexes, queries):\n",
    "    #\n",
    "    # Write your code here.\n",
    "    #\n",
    "\n",
    "if __name__ == '__main__':\n",
    "    n = int(input())\n",
    "    indexes = []\n",
    "    for _ in range(n):\n",
    "        indexes.append(list(map(int, input().rstrip().split())))\n",
    "    queries_count = int(input())\n",
    "    queries = []\n",
    "    for _ in range(queries_count):\n",
    "        queries_item = int(input())\n",
    "        queries.append(queries_item)\n",
    "    result = swapNodes(indexes, queries)\n",
    "    fptr.write('\\n'.join([' '.join(map(str, x)) for x in result]))\n",
    "    fptr.write('\\n')\n",
    "    fptr.close()"
   ]
  }
 ],
 "metadata": {
  "kernelspec": {
   "display_name": "Python 3",
   "language": "python",
   "name": "python3"
  },
  "language_info": {
   "codemirror_mode": {
    "name": "ipython",
    "version": 3
   },
   "file_extension": ".py",
   "mimetype": "text/x-python",
   "name": "python",
   "nbconvert_exporter": "python",
   "pygments_lexer": "ipython3",
   "version": "3.8.5"
  }
 },
 "nbformat": 4,
 "nbformat_minor": 4
}
