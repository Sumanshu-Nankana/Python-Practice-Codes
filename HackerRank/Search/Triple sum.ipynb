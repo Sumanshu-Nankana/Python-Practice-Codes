{
 "cells": [
  {
   "cell_type": "markdown",
   "metadata": {},
   "source": [
    "https://www.hackerrank.com/challenges/triple-sum/problem?h_l=interview&playlist_slugs%5B%5D=interview-preparation-kit&playlist_slugs%5B%5D=search"
   ]
  },
  {
   "cell_type": "markdown",
   "metadata": {},
   "source": [
    "# Triple sum"
   ]
  },
  {
   "cell_type": "raw",
   "metadata": {},
   "source": [
    "Approach\n",
    "\n",
    "We need to create a pair like (p,q,r)\n",
    "and always p <= q & q =r\n",
    "\n",
    "So, we can fix 'q' (i.e. iterate over array B)\n",
    "and check How many pairs we can get by putting elements from array A in array C in format\n",
    "(p, q , r) where p is element from array A and r is element from array B\n",
    "\n",
    "for a particular element from array B; calculate:\n",
    "number of valid elements from array A   \n",
    "multiple by\n",
    "number of valid elements from array B"
   ]
  },
  {
   "cell_type": "markdown",
   "metadata": {},
   "source": [
    "#### Method-1 - Many test cases failed - because of TLE (Time Limit Exceed)"
   ]
  },
  {
   "cell_type": "code",
   "execution_count": 8,
   "metadata": {},
   "outputs": [
    {
     "name": "stdin",
     "output_type": "stream",
     "text": [
      " 3 2 3\n",
      " 1 3 5\n",
      " 2 3\n",
      " 1 2 3\n"
     ]
    },
    {
     "name": "stdout",
     "output_type": "stream",
     "text": [
      "1 2\n",
      "3 5\n",
      "17\n"
     ]
    }
   ],
   "source": [
    "#!/bin/pytho\n",
    "\n",
    "# Complete the triplets function below.\n",
    "def triplets(a, b, c):\n",
    "    \n",
    "    # remove duplicates; because we need only distinct pairs\n",
    "    a = list(set(a))\n",
    "    b = list(set(b))\n",
    "    c = list(set(c))\n",
    "    \n",
    "    valid_a = 0\n",
    "    valid_c = 0\n",
    "    count = 0\n",
    "    \n",
    "    for i in range(len(b)):\n",
    "        for j in range(len(a)):\n",
    "            if a[j] <= b[i]:\n",
    "                valid_a += 1\n",
    "        for k in range(len(c)):\n",
    "            if c[k] <= b[i]:\n",
    "                valid_c += 1\n",
    "        count = count + (valid_a * valid_c)\n",
    "        valid_a = 0\n",
    "        valid_c = 0\n",
    "    return count\n",
    "    \n",
    "\n",
    "if __name__ == '__main__':\n",
    "    lenaLenbLenc = input().split()\n",
    "    lena = int(lenaLenbLenc[0])\n",
    "    lenb = int(lenaLenbLenc[1])\n",
    "    lenc = int(lenaLenbLenc[2])\n",
    "    arra = list(map(int, input().rstrip().split()))\n",
    "    arrb = list(map(int, input().rstrip().split()))\n",
    "    arrc = list(map(int, input().rstrip().split()))\n",
    "    ans = triplets(arra, arrb, arrc)\n",
    "    print(ans)"
   ]
  },
  {
   "cell_type": "code",
   "execution_count": null,
   "metadata": {},
   "outputs": [],
   "source": [
    "#### if we sort the array, and break the loop - Still many test cases failed with TLE\n",
    "#### because for comparison - it enters into loop"
   ]
  },
  {
   "cell_type": "code",
   "execution_count": null,
   "metadata": {},
   "outputs": [],
   "source": [
    "#!/bin/pytho\n",
    "\n",
    "# Complete the triplets function below.\n",
    "def triplets(a, b, c):\n",
    "    \n",
    "    # remove duplicates; because we need only distinct pairs\n",
    "    a = list(sorted(set(a)))\n",
    "    b = list(sorted(set(b)))\n",
    "    c = list(sorted(set(c)))\n",
    "    \n",
    "    valid_a = 0\n",
    "    valid_c = 0\n",
    "    count = 0\n",
    "    \n",
    "    for i in range(len(b)):\n",
    "        for j in range(len(a)):\n",
    "            if a[j] <= b[i]:\n",
    "                valid_a += 1\n",
    "            else:\n",
    "                break\n",
    "        for k in range(len(c)):\n",
    "            if c[k] <= b[i]:\n",
    "                valid_c += 1\n",
    "            else:\n",
    "                break\n",
    "        count = count + (valid_a * valid_c)\n",
    "        valid_a = 0\n",
    "        valid_c = 0\n",
    "    return count\n",
    "    \n",
    "\n",
    "if __name__ == '__main__':\n",
    "    lenaLenbLenc = input().split()\n",
    "    lena = int(lenaLenbLenc[0])\n",
    "    lenb = int(lenaLenbLenc[1])\n",
    "    lenc = int(lenaLenbLenc[2])\n",
    "    arra = list(map(int, input().rstrip().split()))\n",
    "    arrb = list(map(int, input().rstrip().split()))\n",
    "    arrc = list(map(int, input().rstrip().split()))\n",
    "    ans = triplets(arra, arrb, arrc)\n",
    "    print(ans)"
   ]
  },
  {
   "cell_type": "markdown",
   "metadata": {},
   "source": [
    "#### Method-2"
   ]
  },
  {
   "cell_type": "markdown",
   "metadata": {},
   "source": [
    "#### Instead of for loop - let's use while loop"
   ]
  },
  {
   "cell_type": "code",
   "execution_count": null,
   "metadata": {},
   "outputs": [],
   "source": [
    "#!/bin/python3\n",
    "\n",
    "# Complete the triplets function below.\n",
    "def triplets(a, b, c):\n",
    "    a = list(sorted(set(a)))\n",
    "    b = list(sorted(set(b)))\n",
    "    c = list(sorted(set(c)))\n",
    "    \n",
    "    i = 0\n",
    "    j = 0\n",
    "    k = 0\n",
    "    count = 0\n",
    "    \n",
    "    while i < len(b):\n",
    "        while j < len(a) and a[j] <= b[i]:\n",
    "            j+=1\n",
    "        while k < len(c) and c[k] <= b[i]:\n",
    "            k += 1\n",
    "        count = count + (j * k)\n",
    "        i+=1\n",
    "    return count\n",
    "    \n",
    "\n",
    "if __name__ == '__main__':\n",
    "    lenaLenbLenc = input().split()\n",
    "    lena = int(lenaLenbLenc[0])\n",
    "    lenb = int(lenaLenbLenc[1])\n",
    "    lenc = int(lenaLenbLenc[2])\n",
    "    arra = list(map(int, input().rstrip().split()))\n",
    "    arrb = list(map(int, input().rstrip().split()))\n",
    "    arrc = list(map(int, input().rstrip().split()))\n",
    "    ans = triplets(arra, arrb, arrc)\n",
    "    print(ans)"
   ]
  }
 ],
 "metadata": {
  "kernelspec": {
   "display_name": "Python 3",
   "language": "python",
   "name": "python3"
  },
  "language_info": {
   "codemirror_mode": {
    "name": "ipython",
    "version": 3
   },
   "file_extension": ".py",
   "mimetype": "text/x-python",
   "name": "python",
   "nbconvert_exporter": "python",
   "pygments_lexer": "ipython3",
   "version": "3.8.5"
  }
 },
 "nbformat": 4,
 "nbformat_minor": 4
}
