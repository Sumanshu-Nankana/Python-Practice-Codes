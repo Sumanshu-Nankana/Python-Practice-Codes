{
 "cells": [
  {
   "cell_type": "markdown",
   "metadata": {},
   "source": [
    "https://www.hackerrank.com/challenges/minimum-time-required/problem?h_l=interview&playlist_slugs%5B%5D=interview-preparation-kit&playlist_slugs%5B%5D=search"
   ]
  },
  {
   "cell_type": "markdown",
   "metadata": {},
   "source": [
    "# Minimum Time Required"
   ]
  },
  {
   "cell_type": "markdown",
   "metadata": {},
   "source": [
    "#### Method-1 (Many Test cases failed with TLE)"
   ]
  },
  {
   "cell_type": "raw",
   "metadata": {},
   "source": [
    "Approach - Many test cases failed, because array is of very large length.\n",
    "           So running loop till end, will leads to Time Limit Exceed Error\n",
    "\n",
    "We will check for all days, how many products created\n",
    "and check if products created >= goal\n",
    "then break/return\n",
    "\n",
    "We will consider full product;\n",
    "we will not consider half or some portion of product.\n",
    "\n",
    "Example: [2, 3] and goal =5\n",
    "So machine-0 can create one product in 2 days\n",
    "and machine-1 can create one product in 3 days\n",
    "\n",
    "So check for 1 days\n",
    "1/2 (half) --not counted + 1/3 (not counted)\n",
    "So on Day1 => 0 products created\n",
    "\n",
    "if we assume 2 days\n",
    "2/2 = 1 (product) + 2/3 (not counted)\n",
    "So if we took 2 days - only 1 prduct created by both machine\n",
    "\n",
    "let's take 3 days\n",
    "3/2 = 1 and 3/3 = 1 \n",
    "so 1+1 = 2 (2 products created in 3 days)\n",
    "\n",
    "lets take 4 days\n",
    "4/2 = 2 and 4/3 = 1\n",
    "so 3 products created in 4 days\n",
    "\n",
    "same for 5 days....\n",
    "\n",
    "lets take 6 days\n",
    "6/2 = 3 and 6/3 = 2\n",
    "so 5 product created in 6 days\n",
    "\n",
    "now, goal is to create 5 products and we created 5, so break and return 5 days"
   ]
  },
  {
   "cell_type": "code",
   "execution_count": 29,
   "metadata": {},
   "outputs": [
    {
     "name": "stdin",
     "output_type": "stream",
     "text": [
      " 2 5\n",
      " 2 3\n"
     ]
    },
    {
     "name": "stdout",
     "output_type": "stream",
     "text": [
      "Total product in 1 is 0\n",
      "Total product in 2 is 1\n",
      "Total product in 3 is 2\n",
      "Total product in 4 is 3\n",
      "Total product in 5 is 3\n",
      "Total product in 6 is 5\n",
      "6\n"
     ]
    }
   ],
   "source": [
    "#!/bin/python3\n",
    "import math\n",
    "# Complete the minTime function below.\n",
    "def minTime(machines, goal):\n",
    "    total = 0\n",
    "    days = 1\n",
    "    while True:\n",
    "        for i in range(len(machines)):\n",
    "            total += math.floor(days/machines[i])\n",
    "        if total >= goal:\n",
    "            return days\n",
    "        total = 0\n",
    "        days += 1\n",
    "\n",
    "if __name__ == '__main__':\n",
    "    nGoal = input().split()\n",
    "    n = int(nGoal[0])\n",
    "    goal = int(nGoal[1])\n",
    "    machines = list(map(int, input().rstrip().split()))\n",
    "    ans = minTime(machines, goal)\n",
    "    print(ans)"
   ]
  },
  {
   "cell_type": "markdown",
   "metadata": {},
   "source": [
    "#### Method-2"
   ]
  },
  {
   "cell_type": "raw",
   "metadata": {},
   "source": [
    "Approach\n",
    "\n",
    "In first approach, we are checking for all days one by one\n",
    "and when it satisfy - we stop\n",
    "\n",
    "But, if we directly start checkin randomly ?\n",
    "or some-sort of Binary Search..?\n",
    "\n",
    "example machines: [1,3,4], goal = 10\n",
    "We know for any problem, minimum number of days can be = 1\n",
    "and maximum number of days can be = largest_element * number of items\n",
    "                                  = 4 * 10\n",
    "Because, machine-3 ; can produce 1 item in 4 days\n",
    "So, it can produce 10 items in 40 days. (Thouugh maximum can be less)\n",
    "but fo considering upper bound - we take this for every problem.\n",
    "\n",
    "and Now we apply binary search and find middle day - and then check whether for that\n",
    "days, can we create goods..\n",
    "and so on...so in this way, instead of checking all days, we are checking only few days\n",
    "using binary search approach"
   ]
  },
  {
   "cell_type": "code",
   "execution_count": null,
   "metadata": {},
   "outputs": [],
   "source": [
    "#!/bin/python3\n",
    "import math\n",
    "# Complete the minTime function below.\n",
    "def minTime(machines, goal):\n",
    "    machines.sort()\n",
    "    n = len(machines)\n",
    "    left = 1\n",
    "    right = machines[-1]*goal\n",
    "    while left!=right:\n",
    "        guessDays = (left+right)//2\n",
    "        total = 0\n",
    "        for i in range(n):\n",
    "            total += math.floor(guessDays/machines[i])\n",
    "        if total >= goal:\n",
    "            right = guessDays\n",
    "        else:\n",
    "            left = guessDays + 1\n",
    "    return left\n",
    "\n",
    "if __name__ == '__main__':\n",
    "    nGoal = input().split()\n",
    "    n = int(nGoal[0])\n",
    "    goal = int(nGoal[1])\n",
    "    machines = list(map(int, input().rstrip().split()))\n",
    "    ans = minTime(machines, goal)\n",
    "    print(ans)"
   ]
  }
 ],
 "metadata": {
  "kernelspec": {
   "display_name": "Python 3",
   "language": "python",
   "name": "python3"
  },
  "language_info": {
   "codemirror_mode": {
    "name": "ipython",
    "version": 3
   },
   "file_extension": ".py",
   "mimetype": "text/x-python",
   "name": "python",
   "nbconvert_exporter": "python",
   "pygments_lexer": "ipython3",
   "version": "3.8.5"
  }
 },
 "nbformat": 4,
 "nbformat_minor": 4
}
