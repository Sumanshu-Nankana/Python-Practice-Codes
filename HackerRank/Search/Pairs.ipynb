{
 "cells": [
  {
   "cell_type": "markdown",
   "metadata": {},
   "source": [
    "https://www.hackerrank.com/challenges/pairs/problem?h_l=interview&playlist_slugs%5B%5D=interview-preparation-kit&playlist_slugs%5B%5D=search"
   ]
  },
  {
   "cell_type": "markdown",
   "metadata": {},
   "source": [
    "# Pairs"
   ]
  },
  {
   "cell_type": "markdown",
   "metadata": {},
   "source": [
    "#### Method-1"
   ]
  },
  {
   "cell_type": "raw",
   "metadata": {},
   "source": [
    "Create a hashmap for all elements\n",
    "and then loop through array\n",
    "and find if difference exists in hashmap"
   ]
  },
  {
   "cell_type": "code",
   "execution_count": 2,
   "metadata": {},
   "outputs": [
    {
     "name": "stdin",
     "output_type": "stream",
     "text": [
      " 5 2\n",
      " 1 5 3 4 2\n"
     ]
    },
    {
     "name": "stdout",
     "output_type": "stream",
     "text": [
      "3\n"
     ]
    }
   ],
   "source": [
    "#!/bin/python3\n",
    "\n",
    "#\n",
    "# Complete the 'pairs' function below.\n",
    "#\n",
    "# The function is expected to return an INTEGER.\n",
    "# The function accepts following parameters:\n",
    "#  1. INTEGER k\n",
    "#  2. INTEGER_ARRAY arr\n",
    "#\n",
    "from collections import defaultdict\n",
    "\n",
    "dic = defaultdict(int)\n",
    "def pairs(k, arr):\n",
    "    # Write your code here\n",
    "    for ele in arr:\n",
    "        dic[ele] = 1\n",
    "    count = 0\n",
    "    for ele in arr:\n",
    "        diff = ele-k\n",
    "        if diff in dic:\n",
    "            count+=1\n",
    "    return count\n",
    "\n",
    "if __name__ == '__main__':\n",
    "    first_multiple_input = input().rstrip().split()\n",
    "    n = int(first_multiple_input[0])\n",
    "    k = int(first_multiple_input[1])\n",
    "    arr = list(map(int, input().rstrip().split()))\n",
    "    result = pairs(k, arr)\n",
    "    print(result)"
   ]
  },
  {
   "cell_type": "markdown",
   "metadata": {},
   "source": [
    "#### Method-2"
   ]
  },
  {
   "cell_type": "raw",
   "metadata": {},
   "source": [
    "create a set1 (from original array)\n",
    "create a set2 (with ele+diff(k))\n",
    "then take intersection - outuput gives only those element with which combination possible\n",
    "So length of intersection is the answer"
   ]
  },
  {
   "cell_type": "code",
   "execution_count": 4,
   "metadata": {},
   "outputs": [
    {
     "name": "stdin",
     "output_type": "stream",
     "text": [
      " 5 2\n",
      " 1 5 3 4 2 \n"
     ]
    },
    {
     "name": "stdout",
     "output_type": "stream",
     "text": [
      "{1, 2, 3, 4, 5}\n",
      "[3, 7, 5, 6, 4]\n",
      "{3, 4, 5}\n",
      "3\n"
     ]
    }
   ],
   "source": [
    "#!/bin/python3\n",
    "\n",
    "#\n",
    "# Complete the 'pairs' function below.\n",
    "#\n",
    "# The function is expected to return an INTEGER.\n",
    "# The function accepts following parameters:\n",
    "#  1. INTEGER k\n",
    "#  2. INTEGER_ARRAY arr\n",
    "#\n",
    "def pairs(k, arr):\n",
    "    set1 = set(arr)\n",
    "    set2 = [value + k for value in arr]\n",
    "    return len(set1.intersection(set2))\n",
    "\n",
    "if __name__ == '__main__':\n",
    "    first_multiple_input = input().rstrip().split()\n",
    "    n = int(first_multiple_input[0])\n",
    "    k = int(first_multiple_input[1])\n",
    "    arr = list(map(int, input().rstrip().split()))\n",
    "    result = pairs(k, arr)\n",
    "    print(result)"
   ]
  }
 ],
 "metadata": {
  "kernelspec": {
   "display_name": "Python 3",
   "language": "python",
   "name": "python3"
  },
  "language_info": {
   "codemirror_mode": {
    "name": "ipython",
    "version": 3
   },
   "file_extension": ".py",
   "mimetype": "text/x-python",
   "name": "python",
   "nbconvert_exporter": "python",
   "pygments_lexer": "ipython3",
   "version": "3.8.5"
  }
 },
 "nbformat": 4,
 "nbformat_minor": 4
}
