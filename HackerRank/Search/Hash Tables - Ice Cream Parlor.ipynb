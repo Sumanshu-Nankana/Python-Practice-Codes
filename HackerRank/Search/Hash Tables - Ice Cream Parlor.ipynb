{
 "cells": [
  {
   "cell_type": "markdown",
   "metadata": {},
   "source": [
    "https://www.hackerrank.com/challenges/ctci-ice-cream-parlor/problem?h_l=interview&playlist_slugs%5B%5D=interview-preparation-kit&playlist_slugs%5B%5D=search"
   ]
  },
  {
   "cell_type": "markdown",
   "metadata": {},
   "source": [
    "# Hash Tables: Ice Cream Parlor"
   ]
  },
  {
   "cell_type": "code",
   "execution_count": null,
   "metadata": {},
   "outputs": [],
   "source": [
    "#!/bin/python3\n",
    "\n",
    "# Complete the whatFlavors function below.\n",
    "def whatFlavors(cost, money):\n",
    "    pass\n",
    "\n",
    "if __name__ == '__main__':\n",
    "    t = int(input())\n",
    "    for t_itr in range(t):\n",
    "        money = int(input())\n",
    "        n = int(input())\n",
    "        cost = list(map(int, input().rstrip().split()))\n",
    "        whatFlavors(cost, money)"
   ]
  }
 ],
 "metadata": {
  "kernelspec": {
   "display_name": "Python 3",
   "language": "python",
   "name": "python3"
  },
  "language_info": {
   "codemirror_mode": {
    "name": "ipython",
    "version": 3
   },
   "file_extension": ".py",
   "mimetype": "text/x-python",
   "name": "python",
   "nbconvert_exporter": "python",
   "pygments_lexer": "ipython3",
   "version": "3.8.5"
  }
 },
 "nbformat": 4,
 "nbformat_minor": 4
}
