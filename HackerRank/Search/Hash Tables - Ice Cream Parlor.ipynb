{
 "cells": [
  {
   "cell_type": "markdown",
   "metadata": {},
   "source": [
    "https://www.hackerrank.com/challenges/ctci-ice-cream-parlor/problem?h_l=interview&playlist_slugs%5B%5D=interview-preparation-kit&playlist_slugs%5B%5D=search"
   ]
  },
  {
   "cell_type": "markdown",
   "metadata": {},
   "source": [
    "# Hash Tables: Ice Cream Parlor"
   ]
  },
  {
   "cell_type": "markdown",
   "metadata": {},
   "source": [
    "#### Method-1 (Alsmost all Test Cases failed with TLE (Time Limit Error))"
   ]
  },
  {
   "cell_type": "raw",
   "metadata": {},
   "source": [
    "We will pick first element, then subtract that element from total money\n",
    "and found if difference is available in rest all elements.\n",
    "\n",
    "Sam process repeated for all elements (n-1)"
   ]
  },
  {
   "cell_type": "code",
   "execution_count": null,
   "metadata": {},
   "outputs": [],
   "source": [
    "#!/bin/python3\n",
    "\n",
    "# Complete the whatFlavors function below.\n",
    "def whatFlavors(cost, money):\n",
    "    for i in range(len(cost)-1):\n",
    "        srch = money - cost[i]\n",
    "        for j in range(i+1, len(cost)):\n",
    "            if cost[j] == srch:\n",
    "                print(i+1, j+1)\n",
    "                break\n",
    "\n",
    "if __name__ == '__main__':\n",
    "    t = int(input())\n",
    "    for t_itr in range(t):\n",
    "        money = int(input())\n",
    "        n = int(input())\n",
    "        cost = list(map(int, input().rstrip().split()))\n",
    "        whatFlavors(cost, money)"
   ]
  },
  {
   "cell_type": "markdown",
   "metadata": {},
   "source": [
    "#### Method-2"
   ]
  },
  {
   "cell_type": "raw",
   "metadata": {},
   "source": [
    "We will use the hash-map (dictionary).\n",
    "We will traverse all elements of given array.\n",
    "and check (money-thatelement) or diff in dic.\n",
    "if not exists, we will store current element in dic as key, and index+1(because of 1-based indexing) as value.\n",
    "if it exists, it means we find two elements, we will print(first dictionary element - because it means that is earlier in index as it already in dic) and return "
   ]
  },
  {
   "cell_type": "code",
   "execution_count": 1,
   "metadata": {},
   "outputs": [
    {
     "name": "stdin",
     "output_type": "stream",
     "text": [
      " 1\n",
      " 4\n",
      " 5\n",
      " 1 4 5 3 2\n"
     ]
    },
    {
     "name": "stdout",
     "output_type": "stream",
     "text": [
      "1 2\n"
     ]
    }
   ],
   "source": [
    "#!/bin/python3\n",
    "\n",
    "# Complete the whatFlavors function below.\n",
    "def whatFlavors(cost, money):\n",
    "    dic = {}\n",
    "    for i in range(len(cost)-1):\n",
    "        diff = money - cost[i]\n",
    "        if diff in dic:\n",
    "            print(dic[diff], i+1)\n",
    "            return\n",
    "        else:\n",
    "            dic[cost[i]] = i+1\n",
    "\n",
    "if __name__ == '__main__':\n",
    "    t = int(input())\n",
    "    for t_itr in range(t):\n",
    "        money = int(input())\n",
    "        n = int(input())\n",
    "        cost = list(map(int, input().rstrip().split()))\n",
    "        whatFlavors(cost, money)"
   ]
  }
 ],
 "metadata": {
  "kernelspec": {
   "display_name": "Python 3",
   "language": "python",
   "name": "python3"
  },
  "language_info": {
   "codemirror_mode": {
    "name": "ipython",
    "version": 3
   },
   "file_extension": ".py",
   "mimetype": "text/x-python",
   "name": "python",
   "nbconvert_exporter": "python",
   "pygments_lexer": "ipython3",
   "version": "3.8.5"
  }
 },
 "nbformat": 4,
 "nbformat_minor": 4
}
