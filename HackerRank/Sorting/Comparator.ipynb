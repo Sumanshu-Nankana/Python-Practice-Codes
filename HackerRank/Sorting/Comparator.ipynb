{
 "cells": [
  {
   "cell_type": "markdown",
   "metadata": {},
   "source": [
    "https://www.hackerrank.com/challenges/ctci-comparator-sorting/problem?h_l=interview&playlist_slugs%5B%5D=interview-preparation-kit&playlist_slugs%5B%5D=sorting&h_r=next-challenge&h_v=zen&h_r=next-challenge&h_v=zen"
   ]
  },
  {
   "cell_type": "markdown",
   "metadata": {},
   "source": [
    "# Comparator"
   ]
  },
  {
   "cell_type": "code",
   "execution_count": 11,
   "metadata": {},
   "outputs": [
    {
     "name": "stdin",
     "output_type": "stream",
     "text": [
      " 5\n",
      " amy 100\n",
      " david 100\n",
      " heraldo 50\n",
      " aakansha 75\n",
      " aleksa 150\n"
     ]
    },
    {
     "name": "stdout",
     "output_type": "stream",
     "text": [
      "amy 100\n",
      "david 100\n",
      "heraldo 50\n",
      "aakansha 75\n",
      "aleksa 150\n"
     ]
    }
   ],
   "source": [
    "from functools import cmp_to_key\n",
    "class Player:\n",
    "    def __init__(self, name, score):\n",
    "        self.name = name\n",
    "        self.score = score\n",
    "        \n",
    "    def __repr__(self):\n",
    "        return f'{self.name} {self.score}'\n",
    "        \n",
    "    def comparator(a, b):\n",
    "        if a.score < b.score:\n",
    "            return 1\n",
    "        elif a.score == b.score:\n",
    "            if a.name > b.name:\n",
    "                return 1\n",
    "            else:\n",
    "                return -1\n",
    "        else:\n",
    "            return -1\n",
    "\n",
    "n = int(input())\n",
    "details = []\n",
    "for i in range(n):\n",
    "    name, score = input().rstrip().split()\n",
    "    score = int(score)\n",
    "    player = Player(name, score)\n",
    "    details.append(player)\n",
    "sorted(details, key=cmp_to_key(Player.comparator))\n",
    "for i in details:\n",
    "    print(i)"
   ]
  }
 ],
 "metadata": {
  "kernelspec": {
   "display_name": "Python 3",
   "language": "python",
   "name": "python3"
  },
  "language_info": {
   "codemirror_mode": {
    "name": "ipython",
    "version": 3
   },
   "file_extension": ".py",
   "mimetype": "text/x-python",
   "name": "python",
   "nbconvert_exporter": "python",
   "pygments_lexer": "ipython3",
   "version": "3.8.5"
  }
 },
 "nbformat": 4,
 "nbformat_minor": 4
}
