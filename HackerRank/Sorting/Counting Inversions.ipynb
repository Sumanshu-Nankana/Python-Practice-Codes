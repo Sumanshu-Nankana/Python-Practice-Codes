{
 "cells": [
  {
   "cell_type": "markdown",
   "metadata": {},
   "source": [
    "https://www.hackerrank.com/challenges/ctci-merge-sort/problem?h_l=interview&playlist_slugs%5B%5D=interview-preparation-kit&playlist_slugs%5B%5D=sorting&h_r=next-challenge&h_v=zen"
   ]
  },
  {
   "cell_type": "markdown",
   "metadata": {},
   "source": [
    "# Counting Inversions"
   ]
  },
  {
   "cell_type": "markdown",
   "metadata": {},
   "source": [
    "#### Explanation - https://www.youtube.com/watch?v=owZhw-A0yWE"
   ]
  },
  {
   "cell_type": "code",
   "execution_count": null,
   "metadata": {},
   "outputs": [],
   "source": [
    "#!/bin/python3\n",
    "import os\n",
    "\n",
    "count = 0\n",
    "def mergeSort(A):\n",
    "    global count\n",
    "    if len(A) > 1:\n",
    "        n = len(A)\n",
    "        mid = n//2\n",
    "        L = A[:mid]\n",
    "        R = A[mid:]\n",
    "\n",
    "        mergeSort(L)\n",
    "        mergeSort(R)\n",
    "\n",
    "        i = j = k = 0\n",
    "\n",
    "        n = len(L)\n",
    "        m = len(R)\n",
    "        while i < n and j < m:\n",
    "            if L[i] <= R[j]:\n",
    "                A[k] = L[i]\n",
    "                i += 1\n",
    "            else:\n",
    "                A[k] = R[j]\n",
    "                j += 1\n",
    "                count += n - i\n",
    "            k += 1\n",
    "\n",
    "        while i < n:\n",
    "            A[k] = L[i]\n",
    "            i+=1\n",
    "            k+=1 \n",
    "        while j < m:\n",
    "            A[k] = R[j]\n",
    "            j+=1\n",
    "            k+=1\n",
    "\n",
    "\n",
    "# Complete the countInversions function below.\n",
    "def countInversions(arr):\n",
    "    global count\n",
    "    count = 0\n",
    "    mergeSort(arr)\n",
    "    return count\n",
    "\n",
    "\n",
    "\n",
    "if __name__ == '__main__':\n",
    "    fptr = open(os.environ['OUTPUT_PATH'], 'w')\n",
    "\n",
    "    t = int(input())\n",
    "\n",
    "    for t_itr in range(t):\n",
    "        n = int(input())\n",
    "\n",
    "        arr = list(map(int, input().rstrip().split()))\n",
    "\n",
    "        result = countInversions(arr)\n",
    "\n",
    "        fptr.write(str(result) + '\\n')\n",
    "\n",
    "    fptr.close()\n"
   ]
  }
 ],
 "metadata": {
  "kernelspec": {
   "display_name": "Python 3",
   "language": "python",
   "name": "python3"
  },
  "language_info": {
   "codemirror_mode": {
    "name": "ipython",
    "version": 3
   },
   "file_extension": ".py",
   "mimetype": "text/x-python",
   "name": "python",
   "nbconvert_exporter": "python",
   "pygments_lexer": "ipython3",
   "version": "3.8.5"
  }
 },
 "nbformat": 4,
 "nbformat_minor": 4
}
