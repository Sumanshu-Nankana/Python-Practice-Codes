{
 "cells": [
  {
   "cell_type": "markdown",
   "metadata": {},
   "source": [
    "https://www.hackerrank.com/challenges/fraudulent-activity-notifications/problem?h_l=interview&playlist_slugs%5B%5D=interview-preparation-kit&playlist_slugs%5B%5D=sorting&h_r=next-challenge&h_v=zen&h_r=next-challenge&h_v=zen&h_r=next-challenge&h_v=zen"
   ]
  },
  {
   "cell_type": "markdown",
   "metadata": {},
   "source": [
    "# Fraudulent Activity Notifications"
   ]
  },
  {
   "cell_type": "markdown",
   "metadata": {},
   "source": [
    "### Method-1 (5 Test Cases Failed - Because of Timeout)"
   ]
  },
  {
   "cell_type": "code",
   "execution_count": 18,
   "metadata": {},
   "outputs": [
    {
     "name": "stdin",
     "output_type": "stream",
     "text": [
      " 8 4\n",
      " 2 3 4 2 3 6 8 4\n"
     ]
    },
    {
     "name": "stdout",
     "output_type": "stream",
     "text": [
      "0\n"
     ]
    }
   ],
   "source": [
    "#### !/bin/python3\n",
    "import math\n",
    "#\n",
    "# Complete the 'activityNotifications' function below.\n",
    "#\n",
    "# The function is expected to return an INTEGER.\n",
    "# The function accepts following parameters:\n",
    "#  1. INTEGER_ARRAY expenditure\n",
    "#  2. INTEGER d\n",
    "#\n",
    "\n",
    "def activityNotifications(expenditure, d):\n",
    "    # Write your code here\n",
    "    if d % 2 == 0:\n",
    "        even = True\n",
    "    else:\n",
    "        even = False\n",
    "    notices = 0\n",
    "    \n",
    "    for i in range(d, len(expenditure)):\n",
    "        start = i - d\n",
    "        end = i\n",
    "        temp = expenditure[start:end]\n",
    "        temp.sort()\n",
    "        if even:\n",
    "            m = temp[(math.ceil((d+1)/2))] + temp[(math.ceil((d-1)/2))]\n",
    "            median = m/2\n",
    "        else:\n",
    "            m = math.ceil(d/2)\n",
    "            median = temp[m-1]\n",
    "            print(median)\n",
    "        if expenditure[i] >= 2*median:\n",
    "            notices+=1\n",
    "    return notices\n",
    "\n",
    "if __name__ == '__main__':\n",
    "    first_multiple_input = input().rstrip().split()\n",
    "    n = int(first_multiple_input[0])\n",
    "    d = int(first_multiple_input[1])\n",
    "    expenditure = list(map(int, input().rstrip().split()))\n",
    "    result = activityNotifications(expenditure, d)\n",
    "    print(result)"
   ]
  },
  {
   "cell_type": "markdown",
   "metadata": {},
   "source": [
    "### Method-2"
   ]
  },
  {
   "cell_type": "code",
   "execution_count": null,
   "metadata": {},
   "outputs": [],
   "source": [
    "#### !/bin/python3\n",
    "import bisect\n",
    "#\n",
    "# Complete the 'activityNotifications' function below.\n",
    "#\n",
    "# The function is expected to return an INTEGER.\n",
    "# The function accepts following parameters:\n",
    "#  1. INTEGER_ARRAY expenditure\n",
    "#  2. INTEGER d\n",
    "#\n",
    "\n",
    "def find_median(array, d, middle):\n",
    "    # for even set\n",
    "    if d%2 == 0:\n",
    "        return sum(array[middle-1:middle+1])/2\n",
    "    else:\n",
    "        return array[middle]\n",
    "\n",
    "def activityNotifications(expenditure, d, array, middle):\n",
    "    \n",
    "    # we create the array of only size d\n",
    "    # and will insert and delete next value in this\n",
    "    # using inbuilt function 'bisect'\n",
    "\n",
    "    notices = 0\n",
    "    \n",
    "    for i in range(d, len(expenditure)):\n",
    "        if expenditure[i] >= 2*find_median(array, d, middle):\n",
    "            notices+=1\n",
    "        print(array)\n",
    "        # delete element, so we will use bisect_left and pass the value which we want to delete\n",
    "        # from the array\n",
    "        del array[bisect.bisect_left(array, expenditure[i-d])]\n",
    "        print(array)\n",
    "        # Now we need to append the next value at proper position\n",
    "        # we will use bisect.insort method and pass the value which we want to insert\n",
    "        bisect.insort(array, expenditure[i])\n",
    "        print(array)\n",
    "    return notices    \n",
    "\n",
    "if __name__ == '__main__':\n",
    "    first_multiple_input = input().rstrip().split()\n",
    "    n = int(first_multiple_input[0])\n",
    "    d = int(first_multiple_input[1])\n",
    "    expenditure = list(map(int, input().rstrip().split()))\n",
    "    array = expenditure[:d]\n",
    "    array.sort()\n",
    "    middle = d//2\n",
    "    result = activityNotifications(expenditure, d, array, middle)\n",
    "    print(result)"
   ]
  },
  {
   "cell_type": "markdown",
   "metadata": {},
   "source": [
    "### Method-3 "
   ]
  },
  {
   "cell_type": "code",
   "execution_count": 21,
   "metadata": {},
   "outputs": [
    {
     "name": "stdin",
     "output_type": "stream",
     "text": [
      " 9 5\n",
      " 2 3 4 2 3 6 8 4 5\n"
     ]
    },
    {
     "name": "stdout",
     "output_type": "stream",
     "text": [
      "i: 0,val: 2, freq: {2: 1}\n",
      "i: 1,val: 3, freq: {2: 1, 3: 1}\n",
      "i: 2,val: 4, freq: {2: 1, 3: 1, 4: 1}\n",
      "i: 3,val: 2, freq: {2: 2, 3: 1, 4: 1}\n",
      "i: 4,val: 3, freq: {2: 2, 3: 2, 4: 1}\n",
      "finding 2.5\n",
      "median:  3\n",
      "notify:  1\n",
      "i: 5,val: 6, freq: {2: 1, 3: 2, 4: 1, 6: 1}\n",
      "finding 2.5\n",
      "median:  3\n",
      "notify:  2\n",
      "i: 6,val: 8, freq: {2: 1, 3: 1, 4: 1, 6: 1, 8: 1}\n",
      "finding 2.5\n",
      "median:  4\n",
      "i: 7,val: 4, freq: {2: 1, 3: 1, 4: 1, 6: 1, 8: 1}\n",
      "finding 2.5\n",
      "median:  4\n",
      "2\n"
     ]
    }
   ],
   "source": [
    "def activityNotifications(expenditure, d):\n",
    "    freq = {}\n",
    "    notify=0\n",
    "    \n",
    "    # below function is similar to counting sort\n",
    "    def find(idx):\n",
    "        total_count = 0\n",
    "        for i in range(201): \n",
    "            if i in freq:\n",
    "                total_count = total_count + freq[i]\n",
    "            if total_count >= idx:\n",
    "                return i\n",
    "    for i in range(len(expenditure)-1):\n",
    "        if expenditure[i] in freq:\n",
    "            freq[expenditure[i]]+=1\n",
    "        else:\n",
    "            freq[expenditure[i]]=1\n",
    "        print(f\"i: {i},val: {expenditure[i]}, freq: {freq}\")\n",
    "        if i>=d-1:\n",
    "            if d%2 ==0:\n",
    "                median = (find(d//2)+find(d//2+1))/2\n",
    "            else:\n",
    "                print('finding', d/2)\n",
    "                median = find(d/2)\n",
    "            print(\"median: \",median)\n",
    "            if expenditure[i+1]>= (median*2) :\n",
    "                notify +=1\n",
    "                print(\"notify: \",notify)\n",
    "            #remove the previous element from dictionary\n",
    "            freq[expenditure[i-d+1]]-=1\n",
    "\n",
    "    return notify \n",
    "\n",
    "if __name__ == '__main__':\n",
    "    first_multiple_input = input().rstrip().split()\n",
    "    n = int(first_multiple_input[0])\n",
    "    d = int(first_multiple_input[1])\n",
    "    expenditure = list(map(int, input().rstrip().split()))\n",
    "    result = activityNotifications(expenditure, d)\n",
    "    print(result)"
   ]
  }
 ],
 "metadata": {
  "kernelspec": {
   "display_name": "Python 3",
   "language": "python",
   "name": "python3"
  },
  "language_info": {
   "codemirror_mode": {
    "name": "ipython",
    "version": 3
   },
   "file_extension": ".py",
   "mimetype": "text/x-python",
   "name": "python",
   "nbconvert_exporter": "python",
   "pygments_lexer": "ipython3",
   "version": "3.8.5"
  }
 },
 "nbformat": 4,
 "nbformat_minor": 4
}
