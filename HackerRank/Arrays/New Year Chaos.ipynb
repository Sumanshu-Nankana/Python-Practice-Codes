{
 "cells": [
  {
   "cell_type": "markdown",
   "metadata": {},
   "source": [
    "https://www.hackerrank.com/challenges/new-year-chaos/problem?h_l=interview&playlist_slugs%5B%5D=interview-preparation-kit&playlist_slugs%5B%5D=arrays"
   ]
  },
  {
   "cell_type": "markdown",
   "metadata": {},
   "source": [
    "# New Year Chaos"
   ]
  },
  {
   "cell_type": "code",
   "execution_count": 8,
   "metadata": {},
   "outputs": [
    {
     "name": "stdin",
     "output_type": "stream",
     "text": [
      " 1\n",
      " 8\n",
      " 1 2 5 3 7 8 6 4\n"
     ]
    },
    {
     "name": "stdout",
     "output_type": "stream",
     "text": [
      "6\n"
     ]
    }
   ],
   "source": [
    "#!/bin/python3\n",
    "\n",
    "#\n",
    "# Complete the 'minimumBribes' function below.\n",
    "#\n",
    "# The function accepts INTEGER_ARRAY q as parameter.\n",
    "#\n",
    "\n",
    "def minimumBribes(q):\n",
    "    # Write your code here\n",
    "    bribes = 0\n",
    "    \n",
    "    # Start from reverse \n",
    "    # and will check if number == index+1\n",
    "    # if not, then whether it gave bribe to 1 people or 2 people or more\n",
    "    for i in range(len(q)-1, 0, -1):\n",
    "        if q[i] != i+1:\n",
    "            # check if previous element is equal\n",
    "            # So bribe given to 1\n",
    "            # and swap the elements\n",
    "            if q[i-1] == i+1:\n",
    "                bribes+=1\n",
    "                q[i-1],q[i] = q[i], q[i-1]\n",
    "            # check if bribe given to two\n",
    "            # Swap two elements\n",
    "            # and increase bribe count by 2\n",
    "            elif q[i-2] == i+1:\n",
    "                bribes+=2\n",
    "                q[i-2],q[i-1] = q[i-1],q[i-2]\n",
    "                q[i-1],q[i] = q[i], q[i-1]\n",
    "                # we can do above operation in single line as well #\n",
    "                # q[i-2],q[i-1],q[i] = q[i-1],q[i],q[i-2]\n",
    "            # if bribe given more than 2\n",
    "            # then print too chaotic\n",
    "            else:\n",
    "                print('Too chaotic')\n",
    "                return\n",
    "    print(bribes)  \n",
    "    \n",
    "if __name__ == '__main__':\n",
    "    t = int(input().strip())\n",
    "    for t_itr in range(t):\n",
    "        n = int(input().strip())\n",
    "        q = list(map(int, input().rstrip().split()))\n",
    "        minimumBribes(q)"
   ]
  }
 ],
 "metadata": {
  "kernelspec": {
   "display_name": "Python 3",
   "language": "python",
   "name": "python3"
  },
  "language_info": {
   "codemirror_mode": {
    "name": "ipython",
    "version": 3
   },
   "file_extension": ".py",
   "mimetype": "text/x-python",
   "name": "python",
   "nbconvert_exporter": "python",
   "pygments_lexer": "ipython3",
   "version": "3.8.5"
  }
 },
 "nbformat": 4,
 "nbformat_minor": 4
}
