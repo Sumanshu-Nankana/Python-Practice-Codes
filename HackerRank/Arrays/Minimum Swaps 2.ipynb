{
 "cells": [
  {
   "cell_type": "markdown",
   "metadata": {},
   "source": [
    "https://www.hackerrank.com/challenges/minimum-swaps-2/problem?h_l=interview&playlist_slugs%5B%5D=interview-preparation-kit&playlist_slugs%5B%5D=arrays"
   ]
  },
  {
   "cell_type": "markdown",
   "metadata": {},
   "source": [
    "# Minimum Swaps 2"
   ]
  },
  {
   "cell_type": "code",
   "execution_count": 12,
   "metadata": {},
   "outputs": [
    {
     "name": "stdin",
     "output_type": "stream",
     "text": [
      " 4\n",
      " 4 3 1 2\n"
     ]
    },
    {
     "name": "stdout",
     "output_type": "stream",
     "text": [
      "3\n"
     ]
    }
   ],
   "source": [
    "#### !/bin/python3\n",
    "\n",
    "# Complete the minimumSwaps function below.\n",
    "# Swap the element it it's expected index - if it's not there\n",
    "# and Repeat this process\n",
    "def minimumSwaps(arr):\n",
    "    idx = 0\n",
    "    swap = 0\n",
    "    while idx < len(arr):\n",
    "        if arr[idx]!= idx+1:\n",
    "            ix = arr[idx]-1\n",
    "            arr[idx], arr[ix] = arr[ix], arr[idx]\n",
    "            swap+=1\n",
    "        else:\n",
    "            idx+=1\n",
    "    print(swap)\n",
    "\n",
    "if __name__ == '__main__':\n",
    "    n = int(input())\n",
    "    arr = list(map(int, input().rstrip().split()))\n",
    "    res = minimumSwaps(arr)"
   ]
  }
 ],
 "metadata": {
  "kernelspec": {
   "display_name": "Python 3",
   "language": "python",
   "name": "python3"
  },
  "language_info": {
   "codemirror_mode": {
    "name": "ipython",
    "version": 3
   },
   "file_extension": ".py",
   "mimetype": "text/x-python",
   "name": "python",
   "nbconvert_exporter": "python",
   "pygments_lexer": "ipython3",
   "version": "3.8.5"
  }
 },
 "nbformat": 4,
 "nbformat_minor": 4
}
