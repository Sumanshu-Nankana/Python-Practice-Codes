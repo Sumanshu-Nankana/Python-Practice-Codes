{
 "cells": [
  {
   "cell_type": "markdown",
   "metadata": {},
   "source": [
    "# 2D Array - DS"
   ]
  },
  {
   "cell_type": "markdown",
   "metadata": {},
   "source": [
    "https://www.hackerrank.com/challenges/2d-array/problem?h_l=interview&playlist_slugs%5B%5D=interview-preparation-kit&playlist_slugs%5B%5D=arrays"
   ]
  },
  {
   "cell_type": "code",
   "execution_count": 7,
   "metadata": {},
   "outputs": [
    {
     "name": "stdin",
     "output_type": "stream",
     "text": [
      " 1 1 1 0 0 0\n",
      " 0 1 0 0 0 0\n",
      " 1 1 1 0 0 0\n",
      " 0 0 2 4 4 0\n",
      " 0 0 0 2 0 0\n",
      " 0 0 1 2 4 0\n"
     ]
    },
    {
     "name": "stdout",
     "output_type": "stream",
     "text": [
      "19\n"
     ]
    }
   ],
   "source": [
    "#!/bin/python3\n",
    "\n",
    "# Complete the hourglassSum function below.\n",
    "def hourglassSum(arr):\n",
    "    maximum = -99999\n",
    "    for row in range(len(arr)-2):\n",
    "        for col in range(len(arr)-2):\n",
    "            temp = arr[row][col] + arr[row][col+1] + arr[row][col+2] + arr[row+1][col+1] + \\\n",
    "            arr[row+2][col] + arr[row+2][col+1] + arr[row+2][col+2]\n",
    "            maximum = max(maximum, temp)\n",
    "    return maximum\n",
    "\n",
    "if __name__ == '__main__':\n",
    "    arr = []\n",
    "    for _ in range(6):\n",
    "        arr.append(list(map(int, input().rstrip().split())))\n",
    "    result = hourglassSum(arr)\n",
    "    print(result)"
   ]
  }
 ],
 "metadata": {
  "kernelspec": {
   "display_name": "Python 3",
   "language": "python",
   "name": "python3"
  },
  "language_info": {
   "codemirror_mode": {
    "name": "ipython",
    "version": 3
   },
   "file_extension": ".py",
   "mimetype": "text/x-python",
   "name": "python",
   "nbconvert_exporter": "python",
   "pygments_lexer": "ipython3",
   "version": "3.8.5"
  }
 },
 "nbformat": 4,
 "nbformat_minor": 4
}
