{
 "cells": [
  {
   "cell_type": "markdown",
   "metadata": {},
   "source": [
    "https://www.hackerrank.com/challenges/crush/problem?h_l=interview&playlist_slugs%5B%5D=interview-preparation-kit&playlist_slugs%5B%5D=arrays"
   ]
  },
  {
   "cell_type": "markdown",
   "metadata": {},
   "source": [
    "# Array Manipulation"
   ]
  },
  {
   "cell_type": "markdown",
   "metadata": {},
   "source": [
    "### Method-1 (7 Test Case Failed - Because of Timeout Issue)"
   ]
  },
  {
   "cell_type": "code",
   "execution_count": 22,
   "metadata": {},
   "outputs": [
    {
     "name": "stdin",
     "output_type": "stream",
     "text": [
      " 5 3\n",
      " 1 2 100\n",
      " 2 5 100\n",
      " 3 4 100\n"
     ]
    },
    {
     "name": "stdout",
     "output_type": "stream",
     "text": [
      "200\n"
     ]
    }
   ],
   "source": [
    "#!/bin/python3\n",
    "\n",
    "# Complete the arrayManipulation function below.\n",
    "\n",
    "def arrayManipulation(n, queries):\n",
    "    arr = [0]*n\n",
    "    for i in range(len(queries)):\n",
    "        start = queries[i][0]\n",
    "        end = queries[i][1]\n",
    "        value = queries[i][2]\n",
    "        for j in range(start-1, end):\n",
    "            arr[j] = arr[j] + value\n",
    "    return max(arr)\n",
    "\n",
    "if __name__ == '__main__':\n",
    "    nm = input().split()\n",
    "    n = int(nm[0])\n",
    "    m = int(nm[1])\n",
    "    queries = []\n",
    "    for _ in range(m):\n",
    "        queries.append(list(map(int, input().rstrip().split())))\n",
    "    result = arrayManipulation(n, queries)\n",
    "    print(result)"
   ]
  },
  {
   "cell_type": "markdown",
   "metadata": {},
   "source": [
    "### Method-2"
   ]
  },
  {
   "cell_type": "code",
   "execution_count": 26,
   "metadata": {},
   "outputs": [
    {
     "name": "stdin",
     "output_type": "stream",
     "text": [
      " 5 3\n",
      " 1 2 100\n",
      " 2 5 100\n",
      " 3 4 100\n"
     ]
    },
    {
     "name": "stdout",
     "output_type": "stream",
     "text": [
      "200\n"
     ]
    }
   ],
   "source": [
    "#!/bin/python3\n",
    "\n",
    "# Complete the arrayManipulation function below.\n",
    "\n",
    "def arrayManipulation(n, queries):\n",
    "    dic = dict()\n",
    "    for s,e,v in queries:\n",
    "        dic[s] = dic.get(s, 0) + v\n",
    "        dic[e+1] = dic.get(e+1, 0) - v\n",
    "    \n",
    "    arrSum = 0\n",
    "    maxSum = -999999\n",
    "    for i in sorted(dic.keys()):\n",
    "        arrSum = arrSum + dic[i]\n",
    "        maxSum = max(maxSum, arrSum)\n",
    "    return maxSum\n",
    "\n",
    "if __name__ == '__main__':\n",
    "    nm = input().split()\n",
    "    n = int(nm[0])\n",
    "    m = int(nm[1])\n",
    "    queries = []\n",
    "    for _ in range(m):\n",
    "        queries.append(list(map(int, input().rstrip().split())))\n",
    "    result = arrayManipulation(n, queries)\n",
    "    print(result)"
   ]
  }
 ],
 "metadata": {
  "kernelspec": {
   "display_name": "Python 3",
   "language": "python",
   "name": "python3"
  },
  "language_info": {
   "codemirror_mode": {
    "name": "ipython",
    "version": 3
   },
   "file_extension": ".py",
   "mimetype": "text/x-python",
   "name": "python",
   "nbconvert_exporter": "python",
   "pygments_lexer": "ipython3",
   "version": "3.8.5"
  }
 },
 "nbformat": 4,
 "nbformat_minor": 4
}
