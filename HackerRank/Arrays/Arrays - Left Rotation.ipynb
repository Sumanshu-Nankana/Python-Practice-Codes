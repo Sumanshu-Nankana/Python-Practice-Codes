{
 "cells": [
  {
   "cell_type": "markdown",
   "metadata": {},
   "source": [
    "https://www.hackerrank.com/challenges/ctci-array-left-rotation/problem?h_l=interview&playlist_slugs%5B%5D=interview-preparation-kit&playlist_slugs%5B%5D=arrays"
   ]
  },
  {
   "cell_type": "markdown",
   "metadata": {},
   "source": [
    "# Arrays: Left Rotation"
   ]
  },
  {
   "cell_type": "markdown",
   "metadata": {},
   "source": [
    "## Method-1 (2 test failed - Time out issue)"
   ]
  },
  {
   "cell_type": "code",
   "execution_count": 16,
   "metadata": {},
   "outputs": [
    {
     "name": "stdin",
     "output_type": "stream",
     "text": [
      " 15 13\n",
      " 33 47 70 37 8 53 13 93 71 72 51 100 60 87 97\n"
     ]
    },
    {
     "name": "stdout",
     "output_type": "stream",
     "text": [
      "879733477037853139371725110060\n"
     ]
    }
   ],
   "source": [
    "#!/bin/python3\n",
    "\n",
    "# Complete the rotLeft function below.\n",
    "def rotLeft(a, d):\n",
    "    if len(a) == d:\n",
    "        return a\n",
    "    else:\n",
    "        for i in range(d):\n",
    "            a = a[1:] + a[:1]\n",
    "        return a\n",
    "\n",
    "if __name__ == '__main__':\n",
    "    nd = input().split()\n",
    "    n = int(nd[0])\n",
    "    d = int(nd[1])\n",
    "    a = list(map(int, input().rstrip().split()))\n",
    "    result = rotLeft(a, d)\n",
    "    print(result)"
   ]
  },
  {
   "cell_type": "markdown",
   "metadata": {},
   "source": [
    "## Method-2 - All Test Cases Passed"
   ]
  },
  {
   "cell_type": "code",
   "execution_count": null,
   "metadata": {},
   "outputs": [],
   "source": [
    "#!/bin/python3\n",
    "\n",
    "# Complete the rotLeft function below.\n",
    "def rotLeft(a, d):\n",
    "    if len(a) == d:\n",
    "        return a\n",
    "    else:\n",
    "        for i in range(d):\n",
    "            a.append(a[i])\n",
    "        return a[d:]\n",
    "\n",
    "if __name__ == '__main__':\n",
    "    nd = input().split()\n",
    "    n = int(nd[0])\n",
    "    d = int(nd[1])\n",
    "    a = list(map(int, input().rstrip().split()))\n",
    "    result = rotLeft(a, d)\n",
    "    print(result)"
   ]
  },
  {
   "cell_type": "markdown",
   "metadata": {},
   "source": [
    "## Method-3 - All test Cases Passed"
   ]
  },
  {
   "cell_type": "code",
   "execution_count": null,
   "metadata": {},
   "outputs": [],
   "source": [
    "def rotLeft(a, d):\n",
    "    if len(a) == d:\n",
    "        return a\n",
    "    else:\n",
    "        return a[d:] + a[:d]\n",
    "    \n",
    "if __name__ == '__main__':\n",
    "    nd = input().split()\n",
    "    n = int(nd[0])\n",
    "    d = int(nd[1])\n",
    "    a = list(map(int, input().rstrip().split()))\n",
    "    result = rotLeft(a, d)\n",
    "    print(result)"
   ]
  }
 ],
 "metadata": {
  "kernelspec": {
   "display_name": "Python 3",
   "language": "python",
   "name": "python3"
  },
  "language_info": {
   "codemirror_mode": {
    "name": "ipython",
    "version": 3
   },
   "file_extension": ".py",
   "mimetype": "text/x-python",
   "name": "python",
   "nbconvert_exporter": "python",
   "pygments_lexer": "ipython3",
   "version": "3.8.5"
  }
 },
 "nbformat": 4,
 "nbformat_minor": 4
}
