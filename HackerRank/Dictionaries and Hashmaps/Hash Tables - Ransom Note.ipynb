{
 "cells": [
  {
   "cell_type": "markdown",
   "metadata": {},
   "source": [
    "https://www.hackerrank.com/challenges/ctci-ransom-note/problem?h_l=interview&playlist_slugs%5B%5D=interview-preparation-kit&playlist_slugs%5B%5D=dictionaries-hashmaps"
   ]
  },
  {
   "cell_type": "markdown",
   "metadata": {},
   "source": [
    "# Hash Tables: Ransom Note"
   ]
  },
  {
   "cell_type": "code",
   "execution_count": 15,
   "metadata": {},
   "outputs": [
    {
     "name": "stdin",
     "output_type": "stream",
     "text": [
      " 7 4\n",
      " ive got a lovely bunch of coconuts\n",
      " ive got some coconuts\n"
     ]
    },
    {
     "name": "stdout",
     "output_type": "stream",
     "text": [
      "No\n"
     ]
    }
   ],
   "source": [
    "#!/bin/python3\n",
    "\n",
    "# Complete the checkMagazine function below.\n",
    "def checkMagazine(magazine, note):\n",
    "    \n",
    "    # create dictionary from magazine\n",
    "    magDict = dict()\n",
    "    for word in magazine:\n",
    "        if word in magDict:\n",
    "            magDict[word] += 1\n",
    "        else:\n",
    "            magDict[word] = 1\n",
    "    \n",
    "    # check each word of note in magazine\n",
    "    for word in note:\n",
    "        if word in magDict:\n",
    "            magDict[word] -= 1\n",
    "            if magDict[word] == 0:\n",
    "                del magDict[word]\n",
    "        else:\n",
    "            return print('No')\n",
    "    return print('Yes')\n",
    "    \n",
    "if __name__ == '__main__':\n",
    "    mn = input().split()\n",
    "    m = int(mn[0])\n",
    "    n = int(mn[1])\n",
    "    magazine = input().rstrip().split()\n",
    "    note = input().rstrip().split()\n",
    "    checkMagazine(magazine, note)"
   ]
  }
 ],
 "metadata": {
  "kernelspec": {
   "display_name": "Python 3",
   "language": "python",
   "name": "python3"
  },
  "language_info": {
   "codemirror_mode": {
    "name": "ipython",
    "version": 3
   },
   "file_extension": ".py",
   "mimetype": "text/x-python",
   "name": "python",
   "nbconvert_exporter": "python",
   "pygments_lexer": "ipython3",
   "version": "3.8.5"
  }
 },
 "nbformat": 4,
 "nbformat_minor": 4
}
