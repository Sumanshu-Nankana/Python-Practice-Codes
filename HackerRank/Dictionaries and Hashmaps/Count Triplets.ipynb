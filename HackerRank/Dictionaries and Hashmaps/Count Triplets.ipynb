{
 "cells": [
  {
   "cell_type": "markdown",
   "metadata": {},
   "source": [
    "https://www.hackerrank.com/challenges/count-triplets-1/problem?h_l=interview&playlist_slugs%5B%5D=interview-preparation-kit&playlist_slugs%5B%5D=dictionaries-hashmaps&h_r=next-challenge&h_v=zen"
   ]
  },
  {
   "cell_type": "markdown",
   "metadata": {},
   "source": [
    "# Count Triplets"
   ]
  },
  {
   "cell_type": "markdown",
   "metadata": {},
   "source": [
    "## Method-1 (Not Optimized) - Test Cases failed because of Timeout"
   ]
  },
  {
   "cell_type": "code",
   "execution_count": 6,
   "metadata": {},
   "outputs": [
    {
     "name": "stdin",
     "output_type": "stream",
     "text": [
      " 4 2\n",
      " 1 2 2 4\n"
     ]
    },
    {
     "name": "stdout",
     "output_type": "stream",
     "text": [
      "2\n"
     ]
    }
   ],
   "source": [
    "#!/bin/python3\n",
    "\n",
    "# Complete the countTriplets function below.\n",
    "def countTriplets(arr, r):\n",
    "    \n",
    "    count = 0\n",
    "    # find all triplets\n",
    "    for i in range(len(arr)-2):\n",
    "        for j in range(i+1, len(arr)-1):\n",
    "            for k in range(j+1, len(arr)):\n",
    "                if arr[j]/arr[i]==r and arr[k]/arr[j]==r:\n",
    "                    count+=1\n",
    "    return count\n",
    "\n",
    "if __name__ == '__main__':\n",
    "    nr = input().rstrip().split()\n",
    "    n = int(nr[0])\n",
    "    r = int(nr[1])\n",
    "    arr = list(map(int, input().rstrip().split()))\n",
    "    ans = countTriplets(arr, r)\n",
    "    print(ans)"
   ]
  },
  {
   "cell_type": "markdown",
   "metadata": {},
   "source": [
    "## Method-2"
   ]
  },
  {
   "cell_type": "markdown",
   "metadata": {},
   "source": [
    "#### Explanation\n",
    "\n",
    "https://www.thepoorcoder.com/hackerrank-count-triplets-solution/"
   ]
  },
  {
   "cell_type": "code",
   "execution_count": 16,
   "metadata": {},
   "outputs": [
    {
     "name": "stdin",
     "output_type": "stream",
     "text": [
      " 6 3\n",
      " 1 3 9 9 27 81\n"
     ]
    },
    {
     "name": "stdout",
     "output_type": "stream",
     "text": [
      "4\n"
     ]
    }
   ],
   "source": [
    "#!/bin/python3\n",
    "\n",
    "# Complete the countTriplets function below.\n",
    "# AP Series: a/r, a, a*r\n",
    "# Complete the countTriplets function below.\n",
    "def countTriplets(arr, r):\n",
    "    count = 0\n",
    "    left_dict = dict()\n",
    "    right_dict = dict()\n",
    "    \n",
    "    # create a dictionary for given array\n",
    "    # and store it as right_dict\n",
    "    for ele in arr:\n",
    "        if ele in right_dict:\n",
    "            right_dict[ele]+=1\n",
    "        else:\n",
    "            right_dict[ele] = 1\n",
    "        \n",
    "    # Now scan all elements of array one by one\n",
    "    # and check if ele/r exists in left_dict\n",
    "    # and check if ele*r exists in right_dict\n",
    "    for ele in arr:\n",
    "        left = ele//r\n",
    "        right = ele*r\n",
    "        \n",
    "        # as the element is scanned so decrease the count from right\n",
    "        # because this element will not be part of right hand side dictionary now.\n",
    "        right_dict[ele] -= 1\n",
    "        \n",
    "        # if found in left and right\n",
    "        # then we found the triplet\n",
    "        # and count is multiple of items\n",
    "        # because if any number if 'n' times on right side or left side\n",
    "        # that make triplet that times.\n",
    "        if left in left_dict and right in right_dict and ele % r == 0:\n",
    "            count += left_dict[left]*right_dict[right]\n",
    "        \n",
    "        # as the element is scanned so increase the count in left\n",
    "        # because now this element will be part of left hand side dictionary\n",
    "        if ele in left_dict:\n",
    "            left_dict[ele] += 1\n",
    "        else:\n",
    "            left_dict[ele] = 1\n",
    "            \n",
    "    return count\n",
    "\n",
    "if __name__ == '__main__':\n",
    "    nr = input().rstrip().split()\n",
    "    n = int(nr[0])\n",
    "    r = int(nr[1])\n",
    "    arr = list(map(int, input().rstrip().split()))\n",
    "    ans = countTriplets(arr, r)\n",
    "    print(ans)"
   ]
  }
 ],
 "metadata": {
  "kernelspec": {
   "display_name": "Python 3",
   "language": "python",
   "name": "python3"
  },
  "language_info": {
   "codemirror_mode": {
    "name": "ipython",
    "version": 3
   },
   "file_extension": ".py",
   "mimetype": "text/x-python",
   "name": "python",
   "nbconvert_exporter": "python",
   "pygments_lexer": "ipython3",
   "version": "3.8.5"
  }
 },
 "nbformat": 4,
 "nbformat_minor": 4
}
