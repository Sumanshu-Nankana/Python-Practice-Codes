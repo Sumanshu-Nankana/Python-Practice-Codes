{
 "cells": [
  {
   "cell_type": "markdown",
   "metadata": {},
   "source": [
    "https://www.hackerrank.com/challenges/frequency-queries/problem?h_l=interview&playlist_slugs%5B%5D=interview-preparation-kit&playlist_slugs%5B%5D=dictionaries-hashmaps"
   ]
  },
  {
   "cell_type": "markdown",
   "metadata": {},
   "source": [
    "# Frequency Queries"
   ]
  },
  {
   "cell_type": "markdown",
   "metadata": {},
   "source": [
    "## Method-1 (Run Fine) - But Not Optimized"
   ]
  },
  {
   "cell_type": "code",
   "execution_count": 20,
   "metadata": {},
   "outputs": [
    {
     "name": "stdin",
     "output_type": "stream",
     "text": [
      " 10\n",
      " 1 3\n",
      " 2 3\n",
      " 3 2\n",
      " 1 4\n",
      " 1 5\n",
      " 1 5\n",
      " 1 4\n",
      " 3 2\n",
      " 2 4\n",
      " 3 2\n"
     ]
    },
    {
     "name": "stdout",
     "output_type": "stream",
     "text": [
      "0\n",
      "1\n",
      "1\n"
     ]
    }
   ],
   "source": [
    "def freqQuery(queries):\n",
    "    result = []\n",
    "    freq = dict()\n",
    "    for x in queries:\n",
    "        if x[0] == 1:\n",
    "            freq[x[1]] = freq.get(x[1], 0) + 1\n",
    "        elif x[0] == 2:\n",
    "            if x[1] in freq and freq[x[1]] > 0:\n",
    "                freq[x[1]] -= 1\n",
    "        else:\n",
    "            if x[1] in set(freq.values()):\n",
    "                result.append(1)\n",
    "            else:\n",
    "                result.append(0)\n",
    "    return result\n",
    "\n",
    "if __name__ == '__main__':\n",
    "    q = int(input().strip())\n",
    "    queries = []\n",
    "    for _ in range(q):\n",
    "        queries.append(list(map(int, input().rstrip().split())))\n",
    "    ans = freqQuery(queries)\n",
    "    print(ans)"
   ]
  },
  {
   "cell_type": "markdown",
   "metadata": {},
   "source": [
    "## Method-2 (Optimized Way) - By using 2 dictionary"
   ]
  },
  {
   "cell_type": "code",
   "execution_count": 29,
   "metadata": {},
   "outputs": [
    {
     "name": "stdin",
     "output_type": "stream",
     "text": [
      " 10\n",
      " 1 3\n",
      " 2 3\n",
      " 3 2\n",
      " 1 4\n",
      " 1 5\n",
      " 1 5\n",
      " 1 4\n",
      " 3 2\n",
      " 2 4\n",
      " 3 2\n"
     ]
    },
    {
     "name": "stdout",
     "output_type": "stream",
     "text": [
      "{3: 1}\n",
      "{3: 0}\n",
      "{3: 0}\n",
      "{3: 0, 4: 1}\n",
      "{3: 0, 4: 1, 5: 1}\n",
      "{3: 0, 4: 1, 5: 2}\n",
      "{3: 0, 4: 2, 5: 2}\n",
      "{3: 0, 4: 2, 5: 2}\n",
      "{3: 0, 4: 1, 5: 2}\n",
      "{3: 0, 4: 1, 5: 2}\n",
      "[]\n"
     ]
    }
   ],
   "source": [
    "from collections import defaultdict\n",
    "\n",
    "def freqQuery(queries):\n",
    "    elementFreq = defaultdict(int)\n",
    "    freqCount = defaultdict(int)\n",
    "    ans = []\n",
    "    for i, j in queries:\n",
    "        if i == 1:\n",
    "            if freqCount[elementFreq[j]]:\n",
    "                freqCount[elementFreq[j]] -= 1\n",
    "            elementFreq[j] += 1\n",
    "            freqCount[elementFreq[j]] += 1            \n",
    "        elif i == 2:\n",
    "            if elementFreq[j]:\n",
    "                freqCount[elementFreq[j]] -= 1\n",
    "                elementFreq[j] -= 1\n",
    "                freqCount[elementFreq[j]] += 1\n",
    "        else:\n",
    "            # operation 3\n",
    "            if j in freqCount and freqCount[j]:\n",
    "                ans.append(1)\n",
    "            else:\n",
    "                ans.append(0)\n",
    "    return ans\n",
    "\n",
    "if __name__ == '__main__':\n",
    "    q = int(input().strip())\n",
    "    queries = []\n",
    "    for _ in range(q):\n",
    "        queries.append(list(map(int, input().rstrip().split())))\n",
    "    ans = freqQuery(queries)\n",
    "    print(ans)"
   ]
  },
  {
   "cell_type": "code",
   "execution_count": 37,
   "metadata": {},
   "outputs": [
    {
     "name": "stdout",
     "output_type": "stream",
     "text": [
      "1\n",
      "2\n",
      "defaultdict(<class 'list'>, {'a': 1, 'b': 2, 'c': []})\n"
     ]
    }
   ],
   "source": [
    "from collections import defaultdict\n",
    "      \n",
    "# Defining the dict\n",
    "d = defaultdict(list)\n",
    "d[\"a\"] = 1\n",
    "d[\"b\"] = 2\n",
    "  \n",
    "print(d[\"a\"])\n",
    "print(d[\"b\"])\n",
    "if d['c']:\n",
    "    print('Hi')\n",
    "print(d)"
   ]
  }
 ],
 "metadata": {
  "kernelspec": {
   "display_name": "Python 3",
   "language": "python",
   "name": "python3"
  },
  "language_info": {
   "codemirror_mode": {
    "name": "ipython",
    "version": 3
   },
   "file_extension": ".py",
   "mimetype": "text/x-python",
   "name": "python",
   "nbconvert_exporter": "python",
   "pygments_lexer": "ipython3",
   "version": "3.8.5"
  }
 },
 "nbformat": 4,
 "nbformat_minor": 4
}
