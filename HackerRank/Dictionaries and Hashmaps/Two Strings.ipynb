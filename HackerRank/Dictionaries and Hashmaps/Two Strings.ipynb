{
 "cells": [
  {
   "cell_type": "markdown",
   "metadata": {},
   "source": [
    "https://www.hackerrank.com/challenges/two-strings/problem?h_l=interview&playlist_slugs%5B%5D=interview-preparation-kit&playlist_slugs%5B%5D=dictionaries-hashmaps"
   ]
  },
  {
   "cell_type": "markdown",
   "metadata": {},
   "source": [
    "# Two Strings"
   ]
  },
  {
   "cell_type": "code",
   "execution_count": 2,
   "metadata": {},
   "outputs": [
    {
     "name": "stdin",
     "output_type": "stream",
     "text": [
      " 2\n",
      " hello\n",
      " world\n"
     ]
    },
    {
     "name": "stdout",
     "output_type": "stream",
     "text": [
      "Yes\n"
     ]
    },
    {
     "name": "stdin",
     "output_type": "stream",
     "text": [
      " hi\n",
      " world\n"
     ]
    },
    {
     "name": "stdout",
     "output_type": "stream",
     "text": [
      "No\n"
     ]
    }
   ],
   "source": [
    "#!/bin/python3\n",
    "\n",
    "#\n",
    "# Complete the 'twoStrings' function below.\n",
    "#\n",
    "# The function is expected to return a STRING.\n",
    "# The function accepts following parameters:\n",
    "#  1. STRING s1\n",
    "#  2. STRING s2\n",
    "#\n",
    "\n",
    "def twoStrings(s1, s2):\n",
    "    # Write your code here\n",
    "    \n",
    "    # create dictionary for s1\n",
    "    s1dict = dict()\n",
    "    for ch in s1:\n",
    "        if s1 in s1dict:\n",
    "            s1dict[s1] += 1\n",
    "        else:\n",
    "            s1dict[s1] = 1\n",
    "    \n",
    "    # check chrs of s2 in s1\n",
    "    for ch in s2:\n",
    "        if ch in s1:\n",
    "            return 'YES'\n",
    "    return 'NO'\n",
    "        \n",
    "\n",
    "if __name__ == '__main__':\n",
    "    q = int(input().strip())\n",
    "    for q_itr in range(q):\n",
    "        s1 = input()\n",
    "        s2 = input()\n",
    "        result = twoStrings(s1, s2)\n",
    "        print(result)"
   ]
  }
 ],
 "metadata": {
  "kernelspec": {
   "display_name": "Python 3",
   "language": "python",
   "name": "python3"
  },
  "language_info": {
   "codemirror_mode": {
    "name": "ipython",
    "version": 3
   },
   "file_extension": ".py",
   "mimetype": "text/x-python",
   "name": "python",
   "nbconvert_exporter": "python",
   "pygments_lexer": "ipython3",
   "version": "3.8.5"
  }
 },
 "nbformat": 4,
 "nbformat_minor": 4
}
