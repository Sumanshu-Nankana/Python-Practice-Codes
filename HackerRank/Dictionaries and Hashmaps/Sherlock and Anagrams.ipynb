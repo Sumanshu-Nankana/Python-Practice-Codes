{
 "cells": [
  {
   "cell_type": "markdown",
   "metadata": {},
   "source": [
    "https://www.hackerrank.com/challenges/sherlock-and-anagrams/problem?h_l=interview&playlist_slugs%5B%5D=interview-preparation-kit&playlist_slugs%5B%5D=dictionaries-hashmaps"
   ]
  },
  {
   "cell_type": "markdown",
   "metadata": {},
   "source": [
    "# Sherlock and Anagrams"
   ]
  },
  {
   "cell_type": "code",
   "execution_count": 47,
   "metadata": {},
   "outputs": [
    {
     "name": "stdin",
     "output_type": "stream",
     "text": [
      " 1\n",
      " cdcd\n"
     ]
    },
    {
     "name": "stdout",
     "output_type": "stream",
     "text": [
      "['c', 'cd', 'cdc', 'cdcd', 'd', 'dc', 'dcd', 'c', 'cd', 'd']\n",
      "cd\n",
      "c\n",
      "cd\n",
      "d\n",
      "{'c': 2, 'cd': 3, 'ccd': 1, 'ccdd': 1, 'd': 2, 'cdd': 1}\n",
      "5\n"
     ]
    }
   ],
   "source": [
    "# !/bin/python3\n",
    "\n",
    "#\n",
    "# Complete the 'sherlockAndAnagrams' function below.\n",
    "#\n",
    "# The function is expected to return an INTEGER.\n",
    "# The function accepts STRING s as parameter.\n",
    "#\n",
    "\n",
    "def sherlockAndAnagrams(s):\n",
    "    # Write your code here\n",
    "    count = 0\n",
    "    dictionary = dict()\n",
    "    \n",
    "    # find all possible substrings\n",
    "    all_substrings = []\n",
    "    for i in range(len(s)):\n",
    "        for j in range(i+1, len(s)+1):\n",
    "            all_substrings.append(s[i:j])\n",
    "    print(all_substrings)\n",
    "    \n",
    "    # sort all the substring and create a dictionary\n",
    "    for w in all_substrings:\n",
    "        l = list(w)\n",
    "        l.sort()\n",
    "        t = ''.join(l)\n",
    "        if t in dictionary:\n",
    "            count += dictionary[t]\n",
    "            dictionary[t] += 1\n",
    "        else:\n",
    "            dictionary[t] = 1\n",
    "    print(dictionary)\n",
    "    \n",
    "    # Now count\n",
    "    return count\n",
    "\n",
    "if __name__ == '__main__':\n",
    "    q = int(input().strip())\n",
    "    for q_itr in range(q):\n",
    "        s = input()\n",
    "        result = sherlockAndAnagrams(s)\n",
    "        print(result)"
   ]
  }
 ],
 "metadata": {
  "kernelspec": {
   "display_name": "Python 3",
   "language": "python",
   "name": "python3"
  },
  "language_info": {
   "codemirror_mode": {
    "name": "ipython",
    "version": 3
   },
   "file_extension": ".py",
   "mimetype": "text/x-python",
   "name": "python",
   "nbconvert_exporter": "python",
   "pygments_lexer": "ipython3",
   "version": "3.8.5"
  }
 },
 "nbformat": 4,
 "nbformat_minor": 4
}
