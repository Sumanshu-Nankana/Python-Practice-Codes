{
 "cells": [
  {
   "cell_type": "markdown",
   "metadata": {},
   "source": [
    "https://www.hackerrank.com/challenges/special-palindrome-again/problem?h_l=interview&playlist_slugs%5B%5D=interview-preparation-kit&playlist_slugs%5B%5D=strings&h_r=next-challenge&h_v=zen&h_r=next-challenge&h_v=zen"
   ]
  },
  {
   "cell_type": "markdown",
   "metadata": {},
   "source": [
    "# Special String Again"
   ]
  },
  {
   "cell_type": "markdown",
   "metadata": {},
   "source": [
    "### Method-1 (13 test cases failed because of Timeout) - Only 3 passed"
   ]
  },
  {
   "cell_type": "code",
   "execution_count": 24,
   "metadata": {},
   "outputs": [
    {
     "name": "stdin",
     "output_type": "stream",
     "text": [
      " 7\n",
      " abcbaba\n"
     ]
    },
    {
     "name": "stdout",
     "output_type": "stream",
     "text": [
      "10\n"
     ]
    }
   ],
   "source": [
    "#!/bin/python3\n",
    "\n",
    "import math\n",
    "import os\n",
    "import random\n",
    "import re\n",
    "import sys\n",
    "\n",
    "# Complete the substrCount function below.\n",
    "def substrCount(n, s):\n",
    "    count  = 0\n",
    "    substrings = []\n",
    "    # generate all substrings\n",
    "    for i in range(n):\n",
    "        for j in range(i+1, n+1):\n",
    "            substr = s[i:j]\n",
    "            l = len(substr)\n",
    "            if l == 1:\n",
    "                count += 1\n",
    "            elif len(set(list(substr))) == 1:\n",
    "                count += 1\n",
    "            elif l % 2 != 0:\n",
    "                mid = l//2\n",
    "                if len(set(substr[:mid])) == 1 and len(set(substr[mid+1:]))==1 \\\n",
    "                    and (set(substr[:mid]) == set(substr[mid+1:])):\n",
    "                    count += 1\n",
    "    return count\n",
    "    \n",
    "if __name__ == '__main__':\n",
    "    n = int(input())\n",
    "    s = input()\n",
    "    result = substrCount(n, s)\n",
    "    print(result)"
   ]
  },
  {
   "cell_type": "markdown",
   "metadata": {},
   "source": [
    "#### Method-2"
   ]
  },
  {
   "cell_type": "code",
   "execution_count": 30,
   "metadata": {},
   "outputs": [
    {
     "name": "stdin",
     "output_type": "stream",
     "text": [
      " 7\n",
      " abcbaba\n"
     ]
    },
    {
     "name": "stdout",
     "output_type": "stream",
     "text": [
      "Checking x index: 0\n",
      "Checking y index: 1\n",
      "s[x:y] is a\n",
      "s[y+1:2*y-x+1] is c\n",
      "Checking x index: 1\n",
      "Checking y index: 2\n",
      "s[x:y] is b\n",
      "s[y+1:2*y-x+1] is b\n",
      "Count2 is: 8\n",
      "Checking x index: 2\n",
      "Checking y index: 3\n",
      "s[x:y] is c\n",
      "s[y+1:2*y-x+1] is a\n",
      "Checking x index: 3\n",
      "Checking y index: 4\n",
      "s[x:y] is b\n",
      "s[y+1:2*y-x+1] is b\n",
      "Count2 is: 9\n",
      "Checking x index: 4\n",
      "Checking y index: 5\n",
      "s[x:y] is a\n",
      "s[y+1:2*y-x+1] is a\n",
      "Count2 is: 10\n",
      "Checking x index: 5\n",
      "Checking y index: 6\n",
      "s[x:y] is b\n",
      "s[y+1:2*y-x+1] is \n",
      "Checking x index: 6\n",
      "10\n"
     ]
    }
   ],
   "source": [
    "#!/bin/python3\n",
    "\n",
    "import math\n",
    "import os\n",
    "import random\n",
    "import re\n",
    "import sys\n",
    "\n",
    "# Complete the substrCount function below.\n",
    "def substrCount(n, s):\n",
    "    count = n\n",
    "    # Loop through all elements\n",
    "    for x in range(n): \n",
    "        y = x\n",
    "        while y < n - 1:\n",
    "            y += 1\n",
    "            # check next element if its equal to previous element\n",
    "            # if yes, increase count\n",
    "            if s[x] == s[y]:\n",
    "                count += 1\n",
    "            # if not, check , first and last part are equal\n",
    "            # except the middle one.\n",
    "            else:\n",
    "                if s[x:y] == s[y+1:2*y-x+1]:\n",
    "                    count += 1\n",
    "                break\n",
    "    return count\n",
    "\n",
    "if __name__ == '__main__':\n",
    "    n = int(input())\n",
    "    s = input()\n",
    "    result = substrCount(n, s)\n",
    "    print(result)"
   ]
  },
  {
   "cell_type": "code",
   "execution_count": null,
   "metadata": {},
   "outputs": [],
   "source": []
  }
 ],
 "metadata": {
  "kernelspec": {
   "display_name": "Python 3",
   "language": "python",
   "name": "python3"
  },
  "language_info": {
   "codemirror_mode": {
    "name": "ipython",
    "version": 3
   },
   "file_extension": ".py",
   "mimetype": "text/x-python",
   "name": "python",
   "nbconvert_exporter": "python",
   "pygments_lexer": "ipython3",
   "version": "3.8.5"
  }
 },
 "nbformat": 4,
 "nbformat_minor": 4
}
