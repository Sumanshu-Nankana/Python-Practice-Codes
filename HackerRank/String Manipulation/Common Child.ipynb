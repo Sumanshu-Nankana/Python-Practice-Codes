{
 "cells": [
  {
   "cell_type": "markdown",
   "metadata": {},
   "source": [
    "https://www.hackerrank.com/challenges/common-child/problem?h_l=interview&playlist_slugs%5B%5D=interview-preparation-kit&playlist_slugs%5B%5D=strings"
   ]
  },
  {
   "cell_type": "markdown",
   "metadata": {},
   "source": [
    "# Common Child"
   ]
  },
  {
   "cell_type": "markdown",
   "metadata": {},
   "source": [
    "#### This is also LCS or Longest Common Subsequence Problem Type"
   ]
  },
  {
   "cell_type": "markdown",
   "metadata": {},
   "source": [
    "### Method-1 - Using Recursion"
   ]
  },
  {
   "cell_type": "markdown",
   "metadata": {},
   "source": [
    "#### Almost all Test Cases Failed - Few with Timeout and Few with RunTime Error\n",
    "#### Not Sure why RunTime issue"
   ]
  },
  {
   "cell_type": "code",
   "execution_count": 20,
   "metadata": {},
   "outputs": [
    {
     "name": "stdin",
     "output_type": "stream",
     "text": [
      " ABCD\n",
      " ABDC\n"
     ]
    },
    {
     "name": "stdout",
     "output_type": "stream",
     "text": [
      "checking: ABCD and ABDC\n",
      "checking: BCD and BDC\n",
      "checking: CD and DC\n",
      "checking: CD and C\n",
      "checking: D and \n",
      "checking: D and DC\n",
      "checking:  and C\n",
      "3\n"
     ]
    }
   ],
   "source": [
    "#!/bin/python3\n",
    "#\n",
    "# Complete the 'commonChild' function below.\n",
    "#\n",
    "# The function is expected to return an INTEGER.\n",
    "# The function accepts following parameters:\n",
    "#  1. STRING s1\n",
    "#  2. STRING s2\n",
    "#\n",
    "\n",
    "def commonChild(s1, s2):\n",
    "    print('checking:', s1, 'and', s2)\n",
    "    if len(s1)==0 or len(s2)==0:\n",
    "        return 0\n",
    "    else:\n",
    "        if s1[0] == s2[0]:\n",
    "            return 1 + commonChild(s1[1:], s2[1:])\n",
    "        else:\n",
    "            return max(commonChild(s1, s2[1:]), commonChild(s1[1:], s2))\n",
    "\n",
    "if __name__ == '__main__':\n",
    "    s1 = input()\n",
    "    s2 = input()\n",
    "    result = commonChild(s1, s2)\n",
    "    print(result)"
   ]
  },
  {
   "cell_type": "markdown",
   "metadata": {},
   "source": [
    "### Method-2 - Using Dynamic Programming (to avoid same sub-problems)"
   ]
  },
  {
   "cell_type": "markdown",
   "metadata": {},
   "source": [
    "#### With Python3 - 5 Test Cases are Failing\n",
    "#### With PyPy3 - All Test Cases Passed\n",
    "#### Select PyPy3 in Code Window,"
   ]
  },
  {
   "cell_type": "code",
   "execution_count": 22,
   "metadata": {},
   "outputs": [
    {
     "name": "stdin",
     "output_type": "stream",
     "text": [
      " ABCD\n",
      " ABDC\n"
     ]
    },
    {
     "name": "stdout",
     "output_type": "stream",
     "text": [
      "[[0, 0, 0, 0, 0], [0, 0, 0, 0, 0], [0, 0, 0, 0, 0], [0, 0, 0, 0, 0], [0, 0, 0, 0, 0]]\n",
      "3\n"
     ]
    }
   ],
   "source": [
    "#!/bin/python3\n",
    "\n",
    "import math\n",
    "import os\n",
    "import random\n",
    "import re\n",
    "import sys\n",
    "\n",
    "#\n",
    "# Complete the 'commonChild' function below.\n",
    "#\n",
    "# The function is expected to return an INTEGER.\n",
    "# The function accepts following parameters:\n",
    "#  1. STRING s1\n",
    "#  2. STRING s2\n",
    "#\n",
    "\n",
    "def commonChild(s1, s2):\n",
    "    # create a 2D matrix of size (m+1)*(n+1)\n",
    "    # where m & n is length of strings\n",
    "    # in DP, we always create 1 row and 1 column extra\n",
    "    m = [[0]*(len(s2)+1) for _ in range(len(s1)+1)]\n",
    "    # enumerate(s1,1) or enumerate(s2,1) means index starting from 1 instead of 0\n",
    "    for i,c in enumerate(s1,1):\n",
    "        for j,d in enumerate(s2,1):\n",
    "            if c == d:\n",
    "                m[i][j] = m[i-1][j-1]+1\n",
    "            else:\n",
    "                m[i][j] = max(m[i][j-1],m[i-1][j])\n",
    "                   \n",
    "    return m[-1][-1]\n",
    "\n",
    "if __name__ == '__main__':\n",
    "    s1 = input()\n",
    "    s2 = input()\n",
    "    result = commonChild(s1, s2)\n",
    "    print(result)"
   ]
  },
  {
   "cell_type": "markdown",
   "metadata": {},
   "source": [
    "#### Method-3 - DP Approach, but use 2 array instead of 1 long array"
   ]
  },
  {
   "cell_type": "markdown",
   "metadata": {},
   "source": [
    "#### this will pass all test cases in Python3 as well"
   ]
  },
  {
   "cell_type": "code",
   "execution_count": null,
   "metadata": {},
   "outputs": [],
   "source": [
    "def commonChild(s1, s2):\n",
    "    prev = [0] * (len(s2)+1)\n",
    "    curr = [0] * (len(s2)+1)\n",
    "\n",
    "    for r in s1:\n",
    "        for j, c in enumerate(s2, 1):\n",
    "            curr[j] = prev[j-1] + 1 if r == c else max(prev[j], curr[j-1])\n",
    "        prev, curr = curr,prev\n",
    "\n",
    "    return prev[-1]"
   ]
  }
 ],
 "metadata": {
  "kernelspec": {
   "display_name": "Python 3",
   "language": "python",
   "name": "python3"
  },
  "language_info": {
   "codemirror_mode": {
    "name": "ipython",
    "version": 3
   },
   "file_extension": ".py",
   "mimetype": "text/x-python",
   "name": "python",
   "nbconvert_exporter": "python",
   "pygments_lexer": "ipython3",
   "version": "3.8.5"
  }
 },
 "nbformat": 4,
 "nbformat_minor": 4
}
