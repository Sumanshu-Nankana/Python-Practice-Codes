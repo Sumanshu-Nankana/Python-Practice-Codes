{
 "cells": [
  {
   "cell_type": "markdown",
   "metadata": {},
   "source": [
    "https://www.hackerrank.com/challenges/ctci-making-anagrams/problem?h_l=interview&playlist_slugs%5B%5D=interview-preparation-kit&playlist_slugs%5B%5D=strings"
   ]
  },
  {
   "cell_type": "markdown",
   "metadata": {},
   "source": [
    "# Making Anagrams"
   ]
  },
  {
   "cell_type": "markdown",
   "metadata": {},
   "source": [
    "### Method-1"
   ]
  },
  {
   "cell_type": "code",
   "execution_count": 7,
   "metadata": {},
   "outputs": [
    {
     "name": "stdin",
     "output_type": "stream",
     "text": [
      " cde\n",
      " dcf\n"
     ]
    },
    {
     "name": "stdout",
     "output_type": "stream",
     "text": [
      "2\n"
     ]
    }
   ],
   "source": [
    "#!/bin/python3\n",
    "\n",
    "# Complete the makeAnagram function below.\n",
    "def makeAnagram(a, b):\n",
    "    a_dict = {}\n",
    "    b_dict = {}\n",
    "    \n",
    "    for ch in a:\n",
    "        a_dict[ch] = a_dict.get(ch, 0) + 1\n",
    "    \n",
    "    for ch in b:\n",
    "        b_dict[ch] = b_dict.get(ch, 0) + 1\n",
    "    \n",
    "    deletions = 0\n",
    "    \n",
    "    for k in a_dict:\n",
    "        if k in b_dict:\n",
    "            if a_dict[k]!=b_dict[k]:\n",
    "                deletions = deletions + abs(a_dict[k] - b_dict[k])\n",
    "                del b_dict[k]\n",
    "            else:\n",
    "                del b_dict[k]\n",
    "        else:\n",
    "            deletions = deletions + a_dict[k]\n",
    "    \n",
    "    for k in b_dict:\n",
    "        deletions = deletions + b_dict[k]\n",
    "    \n",
    "    return deletions\n",
    "    \n",
    "    \n",
    "if __name__ == '__main__':\n",
    "    a = input()\n",
    "    b = input()\n",
    "    res = makeAnagram(a, b)\n",
    "    print(res)"
   ]
  },
  {
   "cell_type": "markdown",
   "metadata": {},
   "source": [
    "### Method-2"
   ]
  },
  {
   "cell_type": "code",
   "execution_count": 11,
   "metadata": {},
   "outputs": [
    {
     "name": "stdin",
     "output_type": "stream",
     "text": [
      " abc\n",
      " cdef\n"
     ]
    },
    {
     "name": "stdout",
     "output_type": "stream",
     "text": [
      "[1, 1, 1, 0, 0, 0, 0, 0, 0, 0, 0, 0, 0, 0, 0, 0, 0, 0, 0, 0, 0, 0, 0, 0, 0, 0]\n",
      "[0, 0, 1, 1, 1, 1, 0, 0, 0, 0, 0, 0, 0, 0, 0, 0, 0, 0, 0, 0, 0, 0, 0, 0, 0, 0]\n",
      "5\n"
     ]
    }
   ],
   "source": [
    "#!/bin/python3\n",
    "\n",
    "import math\n",
    "import os\n",
    "import random\n",
    "import re\n",
    "import sys\n",
    "\n",
    "# Complete the makeAnagram function below.\n",
    "def makeAnagram(a, b):\n",
    "    aChars = [0]*26\n",
    "    for ch in a:\n",
    "        aChars[ord(ch)-97] += 1\n",
    "    \n",
    "    bChars = [0]*26\n",
    "    for ch in b:\n",
    "        bChars[ord(ch)-97] += 1\n",
    "        \n",
    "    print(aChars)\n",
    "    print(bChars)\n",
    "        \n",
    "    deletions = 0\n",
    "    for i in range(len(aChars)):\n",
    "        deletions += math.fabs(aChars[i]-bChars[i])\n",
    "    \n",
    "    return int(deletions)\n",
    "\n",
    "if __name__ == '__main__':\n",
    "    a = input()\n",
    "    b = input()\n",
    "    res = makeAnagram(a, b)\n",
    "    print(res)"
   ]
  }
 ],
 "metadata": {
  "kernelspec": {
   "display_name": "Python 3",
   "language": "python",
   "name": "python3"
  },
  "language_info": {
   "codemirror_mode": {
    "name": "ipython",
    "version": 3
   },
   "file_extension": ".py",
   "mimetype": "text/x-python",
   "name": "python",
   "nbconvert_exporter": "python",
   "pygments_lexer": "ipython3",
   "version": "3.8.5"
  }
 },
 "nbformat": 4,
 "nbformat_minor": 4
}
