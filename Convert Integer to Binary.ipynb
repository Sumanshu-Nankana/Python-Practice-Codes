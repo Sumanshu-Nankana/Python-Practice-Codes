{
 "cells": [
  {
   "cell_type": "code",
   "execution_count": 22,
   "metadata": {},
   "outputs": [
    {
     "name": "stdout",
     "output_type": "stream",
     "text": [
      "Enter any number to generate it's binary: -5\n",
      "Binary of -5 is: -101\n"
     ]
    }
   ],
   "source": [
    "def convert_integer_to_binary(num):\n",
    "    output = ''\n",
    "    sign = False\n",
    "    if num==0: return 0\n",
    "    if num<0:\n",
    "        sign = True\n",
    "        num = num*(-1)\n",
    "    while num!=0:\n",
    "        quotient = num//2\n",
    "        remainder = num%2\n",
    "        num = quotient\n",
    "        output = str(remainder)+output\n",
    "    \n",
    "    if sign:\n",
    "        return '-'+output\n",
    "    else:\n",
    "        return output\n",
    "    \n",
    "num = int(input(\"Enter any number to generate it's binary: \"))\n",
    "out = convert_integer_to_binary(num)\n",
    "print(f\"Binary of {num} is: {out}\")"
   ]
  }
 ],
 "metadata": {
  "kernelspec": {
   "display_name": "Python 3.8.2 64-bit",
   "language": "python",
   "name": "python38264bit9673dc86fe1c41baa447a91035e01a40"
  },
  "language_info": {
   "codemirror_mode": {
    "name": "ipython",
    "version": 3
   },
   "file_extension": ".py",
   "mimetype": "text/x-python",
   "name": "python",
   "nbconvert_exporter": "python",
   "pygments_lexer": "ipython3",
   "version": "3.8.5"
  }
 },
 "nbformat": 4,
 "nbformat_minor": 4
}
